{
 "cells": [
  {
   "cell_type": "markdown",
   "id": "66f09d0e",
   "metadata": {},
   "source": [
    "## Welcome to P8 Hands On"
   ]
  },
  {
   "cell_type": "code",
   "execution_count": 1,
   "id": "7db95509",
   "metadata": {},
   "outputs": [],
   "source": [
    "#!pip install tensorflow\n",
    "#!pip install factor_analyzer"
   ]
  },
  {
   "cell_type": "code",
   "execution_count": 2,
   "id": "2d9b99ed",
   "metadata": {},
   "outputs": [],
   "source": [
    "import numpy as np\n",
    "import pandas as pd\n",
    "import sklearn\n",
    "import sys\n",
    "import warnings\n",
    "import os\n",
    "if not sys.warnoptions:\n",
    "    warnings.simplefilter(\"ignore\")\n",
    "    os.environ[\"PYTHONWARNINGS\"] = \"ignore\" \n",
    "\n",
    "import matplotlib.pyplot as plt\n",
    "import seaborn as sns\n",
    "import time\n",
    "\n",
    "import factor_analyzer\n",
    "from factor_analyzer import FactorAnalyzer\n",
    "\n",
    "import tensorflow as tf\n",
    "from tensorflow import keras"
   ]
  },
  {
   "cell_type": "markdown",
   "id": "d9305bf7",
   "metadata": {},
   "source": [
    "### Part 1: PCA For Visualization"
   ]
  },
  {
   "cell_type": "markdown",
   "id": "5be4d131",
   "metadata": {},
   "source": [
    "Pada kali ini, kita akan melihat bagaimana PCA dapat memudahkan kita melakukan visualisasi data 'multidimensi'. Data yang akan kita gunakan sebagai contoh adalah data bernama `fashion_mnist`. "
   ]
  },
  {
   "cell_type": "code",
   "execution_count": 3,
   "id": "aed14780",
   "metadata": {},
   "outputs": [],
   "source": [
    "(x_train, y_train), (x_test, y_test) = tf.keras.datasets.fashion_mnist.load_data()"
   ]
  },
  {
   "cell_type": "code",
   "execution_count": 4,
   "id": "a0929a2d",
   "metadata": {},
   "outputs": [
    {
     "name": "stdout",
     "output_type": "stream",
     "text": [
      "x_train shape: (60000, 28, 28)\n",
      "y_train shape: (60000,)\n",
      "x_test shape: (10000, 28, 28)\n",
      "y_test shape: (10000,)\n"
     ]
    }
   ],
   "source": [
    "print('x_train shape:', x_train.shape)\n",
    "print('y_train shape:', y_train.shape)\n",
    "print('x_test shape:', x_test.shape)\n",
    "print('y_test shape:', y_test.shape)"
   ]
  },
  {
   "cell_type": "markdown",
   "id": "ddbbc95c",
   "metadata": {},
   "source": [
    "Mari kita lihat contoh salah satu data dari dataset ini."
   ]
  },
  {
   "cell_type": "code",
   "execution_count": 5,
   "id": "d00320e9",
   "metadata": {},
   "outputs": [
    {
     "data": {
      "text/plain": [
       "array([[  0,   0,   0,   0,   0,   0,   0,   0,   0,   0,   0,   0,   0,\n",
       "          0,   0,   0,   0,   0,   0,   0,   0,   0,   0,   0,   0,   0,\n",
       "          0,   0],\n",
       "       [  0,   0,   0,   0,   0,   0,   0,   0,   0,   0,   0,   0,   0,\n",
       "          0,   0,   0,   0,   0,   0,   0,   0,   0,   0,   0,   0,   0,\n",
       "          0,   0],\n",
       "       [  0,   0,   0,   0,   0,   0,   0,   0,   0,   0,   0,   0,   0,\n",
       "          0,   0,   0,   0,   0,   0,   0,   0,   0,   0,   0,   0,   0,\n",
       "          0,   0],\n",
       "       [  0,   0,   0,   0,   0,   0,   0,   0,   0,   0,   0,   0,   1,\n",
       "          0,   0,  13,  73,   0,   0,   1,   4,   0,   0,   0,   0,   1,\n",
       "          1,   0],\n",
       "       [  0,   0,   0,   0,   0,   0,   0,   0,   0,   0,   0,   0,   3,\n",
       "          0,  36, 136, 127,  62,  54,   0,   0,   0,   1,   3,   4,   0,\n",
       "          0,   3],\n",
       "       [  0,   0,   0,   0,   0,   0,   0,   0,   0,   0,   0,   0,   6,\n",
       "          0, 102, 204, 176, 134, 144, 123,  23,   0,   0,   0,   0,  12,\n",
       "         10,   0],\n",
       "       [  0,   0,   0,   0,   0,   0,   0,   0,   0,   0,   0,   0,   0,\n",
       "          0, 155, 236, 207, 178, 107, 156, 161, 109,  64,  23,  77, 130,\n",
       "         72,  15],\n",
       "       [  0,   0,   0,   0,   0,   0,   0,   0,   0,   0,   0,   1,   0,\n",
       "         69, 207, 223, 218, 216, 216, 163, 127, 121, 122, 146, 141,  88,\n",
       "        172,  66],\n",
       "       [  0,   0,   0,   0,   0,   0,   0,   0,   0,   1,   1,   1,   0,\n",
       "        200, 232, 232, 233, 229, 223, 223, 215, 213, 164, 127, 123, 196,\n",
       "        229,   0],\n",
       "       [  0,   0,   0,   0,   0,   0,   0,   0,   0,   0,   0,   0,   0,\n",
       "        183, 225, 216, 223, 228, 235, 227, 224, 222, 224, 221, 223, 245,\n",
       "        173,   0],\n",
       "       [  0,   0,   0,   0,   0,   0,   0,   0,   0,   0,   0,   0,   0,\n",
       "        193, 228, 218, 213, 198, 180, 212, 210, 211, 213, 223, 220, 243,\n",
       "        202,   0],\n",
       "       [  0,   0,   0,   0,   0,   0,   0,   0,   0,   1,   3,   0,  12,\n",
       "        219, 220, 212, 218, 192, 169, 227, 208, 218, 224, 212, 226, 197,\n",
       "        209,  52],\n",
       "       [  0,   0,   0,   0,   0,   0,   0,   0,   0,   0,   6,   0,  99,\n",
       "        244, 222, 220, 218, 203, 198, 221, 215, 213, 222, 220, 245, 119,\n",
       "        167,  56],\n",
       "       [  0,   0,   0,   0,   0,   0,   0,   0,   0,   4,   0,   0,  55,\n",
       "        236, 228, 230, 228, 240, 232, 213, 218, 223, 234, 217, 217, 209,\n",
       "         92,   0],\n",
       "       [  0,   0,   1,   4,   6,   7,   2,   0,   0,   0,   0,   0, 237,\n",
       "        226, 217, 223, 222, 219, 222, 221, 216, 223, 229, 215, 218, 255,\n",
       "         77,   0],\n",
       "       [  0,   3,   0,   0,   0,   0,   0,   0,   0,  62, 145, 204, 228,\n",
       "        207, 213, 221, 218, 208, 211, 218, 224, 223, 219, 215, 224, 244,\n",
       "        159,   0],\n",
       "       [  0,   0,   0,   0,  18,  44,  82, 107, 189, 228, 220, 222, 217,\n",
       "        226, 200, 205, 211, 230, 224, 234, 176, 188, 250, 248, 233, 238,\n",
       "        215,   0],\n",
       "       [  0,  57, 187, 208, 224, 221, 224, 208, 204, 214, 208, 209, 200,\n",
       "        159, 245, 193, 206, 223, 255, 255, 221, 234, 221, 211, 220, 232,\n",
       "        246,   0],\n",
       "       [  3, 202, 228, 224, 221, 211, 211, 214, 205, 205, 205, 220, 240,\n",
       "         80, 150, 255, 229, 221, 188, 154, 191, 210, 204, 209, 222, 228,\n",
       "        225,   0],\n",
       "       [ 98, 233, 198, 210, 222, 229, 229, 234, 249, 220, 194, 215, 217,\n",
       "        241,  65,  73, 106, 117, 168, 219, 221, 215, 217, 223, 223, 224,\n",
       "        229,  29],\n",
       "       [ 75, 204, 212, 204, 193, 205, 211, 225, 216, 185, 197, 206, 198,\n",
       "        213, 240, 195, 227, 245, 239, 223, 218, 212, 209, 222, 220, 221,\n",
       "        230,  67],\n",
       "       [ 48, 203, 183, 194, 213, 197, 185, 190, 194, 192, 202, 214, 219,\n",
       "        221, 220, 236, 225, 216, 199, 206, 186, 181, 177, 172, 181, 205,\n",
       "        206, 115],\n",
       "       [  0, 122, 219, 193, 179, 171, 183, 196, 204, 210, 213, 207, 211,\n",
       "        210, 200, 196, 194, 191, 195, 191, 198, 192, 176, 156, 167, 177,\n",
       "        210,  92],\n",
       "       [  0,   0,  74, 189, 212, 191, 175, 172, 175, 181, 185, 188, 189,\n",
       "        188, 193, 198, 204, 209, 210, 210, 211, 188, 188, 194, 192, 216,\n",
       "        170,   0],\n",
       "       [  2,   0,   0,   0,  66, 200, 222, 237, 239, 242, 246, 243, 244,\n",
       "        221, 220, 193, 191, 179, 182, 182, 181, 176, 166, 168,  99,  58,\n",
       "          0,   0],\n",
       "       [  0,   0,   0,   0,   0,   0,   0,  40,  61,  44,  72,  41,  35,\n",
       "          0,   0,   0,   0,   0,   0,   0,   0,   0,   0,   0,   0,   0,\n",
       "          0,   0],\n",
       "       [  0,   0,   0,   0,   0,   0,   0,   0,   0,   0,   0,   0,   0,\n",
       "          0,   0,   0,   0,   0,   0,   0,   0,   0,   0,   0,   0,   0,\n",
       "          0,   0],\n",
       "       [  0,   0,   0,   0,   0,   0,   0,   0,   0,   0,   0,   0,   0,\n",
       "          0,   0,   0,   0,   0,   0,   0,   0,   0,   0,   0,   0,   0,\n",
       "          0,   0]], dtype=uint8)"
      ]
     },
     "execution_count": 5,
     "metadata": {},
     "output_type": "execute_result"
    }
   ],
   "source": [
    "x_train[0]"
   ]
  },
  {
   "cell_type": "markdown",
   "id": "7cda5a76",
   "metadata": {},
   "source": [
    "Wah, bentuknya sangat aneh, banyak 0, dan banyak angka-angka yang terlihat 'asing' dan 'random'. Ini data apaan sih?"
   ]
  },
  {
   "cell_type": "code",
   "execution_count": 6,
   "id": "61cf4729",
   "metadata": {},
   "outputs": [
    {
     "name": "stdout",
     "output_type": "stream",
     "text": [
      "Label dari gambar ini adalah: 9\n"
     ]
    },
    {
     "data": {
      "image/png": "[encoded data removed]",
      "text/plain": [
       "<Figure size 432x288 with 1 Axes>"
      ]
     },
     "metadata": {
      "needs_background": "light"
     },
     "output_type": "display_data"
    }
   ],
   "source": [
    "plt.imshow(x_train[0])\n",
    "print('Label dari gambar ini adalah:', y_train[0])"
   ]
  },
  {
   "cell_type": "markdown",
   "id": "b6fcb6d9",
   "metadata": {},
   "source": [
    "Ternyata, data-data di atas adalah nilai dari pixel dalam sebuah gambar berukuran 28 x 28. Jika kita gambarkan, maka `x_train[0]` membantuk sebuah sepatu boot."
   ]
  },
  {
   "cell_type": "code",
   "execution_count": 7,
   "id": "96410024",
   "metadata": {},
   "outputs": [
    {
     "name": "stdout",
     "output_type": "stream",
     "text": [
      "Label dari gambar ini adalah: 0\n"
     ]
    },
    {
     "data": {
      "image/png": "[encoded data removed]",
      "text/plain": [
       "<Figure size 432x288 with 1 Axes>"
      ]
     },
     "metadata": {
      "needs_background": "light"
     },
     "output_type": "display_data"
    }
   ],
   "source": [
    "plt.imshow(x_train[1])\n",
    "print('Label dari gambar ini adalah:', y_train[1])"
   ]
  },
  {
   "cell_type": "markdown",
   "id": "065d1f5d",
   "metadata": {},
   "source": [
    "Sementara `x_train[1]` berbentuk kaos."
   ]
  },
  {
   "cell_type": "markdown",
   "id": "3280b6bc",
   "metadata": {},
   "source": [
    "Detil tentang dataset ini dapat dilihat di: https://github.com/zalandoresearch/fashion-mnist"
   ]
  },
  {
   "cell_type": "code",
   "execution_count": 8,
   "id": "76b941ce",
   "metadata": {},
   "outputs": [],
   "source": [
    "dictionary = {0:'T-Shirt', 1:'Trouser', 2:'Pullover', 3:'Dress', 4:'Coat', 5:'Sandal', 6:'Shirt',\n",
    "              7:'Sneaker', 8:'Bag', 9:'Boots'}"
   ]
  },
  {
   "cell_type": "code",
   "execution_count": 9,
   "id": "e4ebfb40",
   "metadata": {},
   "outputs": [
    {
     "name": "stdout",
     "output_type": "stream",
     "text": [
      "Label dari gambar ini adalah: 8\n",
      "Label 8 menunjukkan pada produk Bag\n"
     ]
    },
    {
     "data": {
      "image/png": "[encoded data removed]",
      "text/plain": [
       "<Figure size 432x288 with 1 Axes>"
      ]
     },
     "metadata": {
      "needs_background": "light"
     },
     "output_type": "display_data"
    }
   ],
   "source": [
    "plt.imshow(x_train[100])\n",
    "print('Label dari gambar ini adalah:', y_train[100])\n",
    "print(f'Label {y_train[100]} menunjukkan pada produk {dictionary[y_train[100]]}')"
   ]
  },
  {
   "cell_type": "markdown",
   "id": "ca954f49",
   "metadata": {},
   "source": [
    "Sekarang, mari kita 'ratakan' bentuk 28x28 tadi. "
   ]
  },
  {
   "cell_type": "code",
   "execution_count": 10,
   "id": "6f76a99b",
   "metadata": {},
   "outputs": [],
   "source": [
    "x_train_flat = x_train.reshape(60000, 784)\n",
    "x_test_flat = x_test.reshape(10000, 784)"
   ]
  },
  {
   "cell_type": "code",
   "execution_count": 11,
   "id": "186c02d4",
   "metadata": {},
   "outputs": [],
   "source": [
    "df = pd.DataFrame(x_train_flat)\n",
    "df['label'] = y_train\n",
    "df['name'] = df['label'].map(dictionary)"
   ]
  },
  {
   "cell_type": "code",
   "execution_count": 12,
   "id": "4556d2b3",
   "metadata": {},
   "outputs": [
    {
     "data": {
      "text/html": [
       "<div>\n",
       "<style scoped>\n",
       "    .dataframe tbody tr th:only-of-type {\n",
       "        vertical-align: middle;\n",
       "    }\n",
       "\n",
       "    .dataframe tbody tr th {\n",
       "        vertical-align: top;\n",
       "    }\n",
       "\n",
       "    .dataframe thead th {\n",
       "        text-align: right;\n",
       "    }\n",
       "</style>\n",
       "<table border=\"1\" class=\"dataframe\">\n",
       "  <thead>\n",
       "    <tr style=\"text-align: right;\">\n",
       "      <th></th>\n",
       "      <th>0</th>\n",
       "      <th>1</th>\n",
       "      <th>2</th>\n",
       "      <th>3</th>\n",
       "      <th>4</th>\n",
       "      <th>5</th>\n",
       "      <th>6</th>\n",
       "      <th>7</th>\n",
       "      <th>8</th>\n",
       "      <th>9</th>\n",
       "      <th>...</th>\n",
       "      <th>776</th>\n",
       "      <th>777</th>\n",
       "      <th>778</th>\n",
       "      <th>779</th>\n",
       "      <th>780</th>\n",
       "      <th>781</th>\n",
       "      <th>782</th>\n",
       "      <th>783</th>\n",
       "      <th>label</th>\n",
       "      <th>name</th>\n",
       "    </tr>\n",
       "  </thead>\n",
       "  <tbody>\n",
       "    <tr>\n",
       "      <th>0</th>\n",
       "      <td>0</td>\n",
       "      <td>0</td>\n",
       "      <td>0</td>\n",
       "      <td>0</td>\n",
       "      <td>0</td>\n",
       "      <td>0</td>\n",
       "      <td>0</td>\n",
       "      <td>0</td>\n",
       "      <td>0</td>\n",
       "      <td>0</td>\n",
       "      <td>...</td>\n",
       "      <td>0</td>\n",
       "      <td>0</td>\n",
       "      <td>0</td>\n",
       "      <td>0</td>\n",
       "      <td>0</td>\n",
       "      <td>0</td>\n",
       "      <td>0</td>\n",
       "      <td>0</td>\n",
       "      <td>9</td>\n",
       "      <td>Boots</td>\n",
       "    </tr>\n",
       "    <tr>\n",
       "      <th>1</th>\n",
       "      <td>0</td>\n",
       "      <td>0</td>\n",
       "      <td>0</td>\n",
       "      <td>0</td>\n",
       "      <td>0</td>\n",
       "      <td>1</td>\n",
       "      <td>0</td>\n",
       "      <td>0</td>\n",
       "      <td>0</td>\n",
       "      <td>0</td>\n",
       "      <td>...</td>\n",
       "      <td>130</td>\n",
       "      <td>76</td>\n",
       "      <td>0</td>\n",
       "      <td>0</td>\n",
       "      <td>0</td>\n",
       "      <td>0</td>\n",
       "      <td>0</td>\n",
       "      <td>0</td>\n",
       "      <td>0</td>\n",
       "      <td>T-Shirt</td>\n",
       "    </tr>\n",
       "    <tr>\n",
       "      <th>2</th>\n",
       "      <td>0</td>\n",
       "      <td>0</td>\n",
       "      <td>0</td>\n",
       "      <td>0</td>\n",
       "      <td>0</td>\n",
       "      <td>0</td>\n",
       "      <td>0</td>\n",
       "      <td>0</td>\n",
       "      <td>0</td>\n",
       "      <td>22</td>\n",
       "      <td>...</td>\n",
       "      <td>1</td>\n",
       "      <td>0</td>\n",
       "      <td>0</td>\n",
       "      <td>0</td>\n",
       "      <td>0</td>\n",
       "      <td>0</td>\n",
       "      <td>0</td>\n",
       "      <td>0</td>\n",
       "      <td>0</td>\n",
       "      <td>T-Shirt</td>\n",
       "    </tr>\n",
       "    <tr>\n",
       "      <th>3</th>\n",
       "      <td>0</td>\n",
       "      <td>0</td>\n",
       "      <td>0</td>\n",
       "      <td>0</td>\n",
       "      <td>0</td>\n",
       "      <td>0</td>\n",
       "      <td>0</td>\n",
       "      <td>0</td>\n",
       "      <td>33</td>\n",
       "      <td>96</td>\n",
       "      <td>...</td>\n",
       "      <td>0</td>\n",
       "      <td>0</td>\n",
       "      <td>0</td>\n",
       "      <td>0</td>\n",
       "      <td>0</td>\n",
       "      <td>0</td>\n",
       "      <td>0</td>\n",
       "      <td>0</td>\n",
       "      <td>3</td>\n",
       "      <td>Dress</td>\n",
       "    </tr>\n",
       "    <tr>\n",
       "      <th>4</th>\n",
       "      <td>0</td>\n",
       "      <td>0</td>\n",
       "      <td>0</td>\n",
       "      <td>0</td>\n",
       "      <td>0</td>\n",
       "      <td>0</td>\n",
       "      <td>0</td>\n",
       "      <td>0</td>\n",
       "      <td>0</td>\n",
       "      <td>0</td>\n",
       "      <td>...</td>\n",
       "      <td>0</td>\n",
       "      <td>0</td>\n",
       "      <td>0</td>\n",
       "      <td>0</td>\n",
       "      <td>0</td>\n",
       "      <td>0</td>\n",
       "      <td>0</td>\n",
       "      <td>0</td>\n",
       "      <td>0</td>\n",
       "      <td>T-Shirt</td>\n",
       "    </tr>\n",
       "    <tr>\n",
       "      <th>...</th>\n",
       "      <td>...</td>\n",
       "      <td>...</td>\n",
       "      <td>...</td>\n",
       "      <td>...</td>\n",
       "      <td>...</td>\n",
       "      <td>...</td>\n",
       "      <td>...</td>\n",
       "      <td>...</td>\n",
       "      <td>...</td>\n",
       "      <td>...</td>\n",
       "      <td>...</td>\n",
       "      <td>...</td>\n",
       "      <td>...</td>\n",
       "      <td>...</td>\n",
       "      <td>...</td>\n",
       "      <td>...</td>\n",
       "      <td>...</td>\n",
       "      <td>...</td>\n",
       "      <td>...</td>\n",
       "      <td>...</td>\n",
       "      <td>...</td>\n",
       "    </tr>\n",
       "    <tr>\n",
       "      <th>59995</th>\n",
       "      <td>0</td>\n",
       "      <td>0</td>\n",
       "      <td>0</td>\n",
       "      <td>0</td>\n",
       "      <td>0</td>\n",
       "      <td>0</td>\n",
       "      <td>0</td>\n",
       "      <td>0</td>\n",
       "      <td>0</td>\n",
       "      <td>0</td>\n",
       "      <td>...</td>\n",
       "      <td>0</td>\n",
       "      <td>0</td>\n",
       "      <td>0</td>\n",
       "      <td>0</td>\n",
       "      <td>0</td>\n",
       "      <td>0</td>\n",
       "      <td>0</td>\n",
       "      <td>0</td>\n",
       "      <td>5</td>\n",
       "      <td>Sandal</td>\n",
       "    </tr>\n",
       "    <tr>\n",
       "      <th>59996</th>\n",
       "      <td>0</td>\n",
       "      <td>0</td>\n",
       "      <td>0</td>\n",
       "      <td>0</td>\n",
       "      <td>0</td>\n",
       "      <td>0</td>\n",
       "      <td>0</td>\n",
       "      <td>0</td>\n",
       "      <td>0</td>\n",
       "      <td>0</td>\n",
       "      <td>...</td>\n",
       "      <td>0</td>\n",
       "      <td>0</td>\n",
       "      <td>0</td>\n",
       "      <td>0</td>\n",
       "      <td>0</td>\n",
       "      <td>0</td>\n",
       "      <td>0</td>\n",
       "      <td>0</td>\n",
       "      <td>1</td>\n",
       "      <td>Trouser</td>\n",
       "    </tr>\n",
       "    <tr>\n",
       "      <th>59997</th>\n",
       "      <td>0</td>\n",
       "      <td>0</td>\n",
       "      <td>0</td>\n",
       "      <td>0</td>\n",
       "      <td>0</td>\n",
       "      <td>0</td>\n",
       "      <td>0</td>\n",
       "      <td>0</td>\n",
       "      <td>0</td>\n",
       "      <td>5</td>\n",
       "      <td>...</td>\n",
       "      <td>0</td>\n",
       "      <td>0</td>\n",
       "      <td>0</td>\n",
       "      <td>0</td>\n",
       "      <td>0</td>\n",
       "      <td>0</td>\n",
       "      <td>0</td>\n",
       "      <td>0</td>\n",
       "      <td>3</td>\n",
       "      <td>Dress</td>\n",
       "    </tr>\n",
       "    <tr>\n",
       "      <th>59998</th>\n",
       "      <td>0</td>\n",
       "      <td>0</td>\n",
       "      <td>0</td>\n",
       "      <td>0</td>\n",
       "      <td>0</td>\n",
       "      <td>0</td>\n",
       "      <td>0</td>\n",
       "      <td>0</td>\n",
       "      <td>0</td>\n",
       "      <td>0</td>\n",
       "      <td>...</td>\n",
       "      <td>50</td>\n",
       "      <td>5</td>\n",
       "      <td>0</td>\n",
       "      <td>1</td>\n",
       "      <td>0</td>\n",
       "      <td>0</td>\n",
       "      <td>0</td>\n",
       "      <td>0</td>\n",
       "      <td>0</td>\n",
       "      <td>T-Shirt</td>\n",
       "    </tr>\n",
       "    <tr>\n",
       "      <th>59999</th>\n",
       "      <td>0</td>\n",
       "      <td>0</td>\n",
       "      <td>0</td>\n",
       "      <td>0</td>\n",
       "      <td>0</td>\n",
       "      <td>0</td>\n",
       "      <td>0</td>\n",
       "      <td>0</td>\n",
       "      <td>0</td>\n",
       "      <td>0</td>\n",
       "      <td>...</td>\n",
       "      <td>0</td>\n",
       "      <td>0</td>\n",
       "      <td>0</td>\n",
       "      <td>0</td>\n",
       "      <td>0</td>\n",
       "      <td>0</td>\n",
       "      <td>0</td>\n",
       "      <td>0</td>\n",
       "      <td>5</td>\n",
       "      <td>Sandal</td>\n",
       "    </tr>\n",
       "  </tbody>\n",
       "</table>\n",
       "<p>60000 rows × 786 columns</p>\n",
       "</div>"
      ],
      "text/plain": [
       "       0  1  2  3  4  5  6  7   8   9  ...  776  777  778  779  780  781  782  \\\n",
       "0      0  0  0  0  0  0  0  0   0   0  ...    0    0    0    0    0    0    0   \n",
       "1      0  0  0  0  0  1  0  0   0   0  ...  130   76    0    0    0    0    0   \n",
       "2      0  0  0  0  0  0  0  0   0  22  ...    1    0    0    0    0    0    0   \n",
       "3      0  0  0  0  0  0  0  0  33  96  ...    0    0    0    0    0    0    0   \n",
       "4      0  0  0  0  0  0  0  0   0   0  ...    0    0    0    0    0    0    0   \n",
       "...   .. .. .. .. .. .. .. ..  ..  ..  ...  ...  ...  ...  ...  ...  ...  ...   \n",
       "59995  0  0  0  0  0  0  0  0   0   0  ...    0    0    0    0    0    0    0   \n",
       "59996  0  0  0  0  0  0  0  0   0   0  ...    0    0    0    0    0    0    0   \n",
       "59997  0  0  0  0  0  0  0  0   0   5  ...    0    0    0    0    0    0    0   \n",
       "59998  0  0  0  0  0  0  0  0   0   0  ...   50    5    0    1    0    0    0   \n",
       "59999  0  0  0  0  0  0  0  0   0   0  ...    0    0    0    0    0    0    0   \n",
       "\n",
       "       783  label     name  \n",
       "0        0      9    Boots  \n",
       "1        0      0  T-Shirt  \n",
       "2        0      0  T-Shirt  \n",
       "3        0      3    Dress  \n",
       "4        0      0  T-Shirt  \n",
       "...    ...    ...      ...  \n",
       "59995    0      5   Sandal  \n",
       "59996    0      1  Trouser  \n",
       "59997    0      3    Dress  \n",
       "59998    0      0  T-Shirt  \n",
       "59999    0      5   Sandal  \n",
       "\n",
       "[60000 rows x 786 columns]"
      ]
     },
     "execution_count": 12,
     "metadata": {},
     "output_type": "execute_result"
    }
   ],
   "source": [
    "df"
   ]
  },
  {
   "cell_type": "markdown",
   "id": "a92100cb",
   "metadata": {},
   "source": [
    "Dataset kita memiliki ukuran 60 000 baris dan memiliki 784 kolom numerik, serta 2 kolom yang menunjukkan \"gambar\" dari setiap baris."
   ]
  },
  {
   "cell_type": "markdown",
   "id": "7bc9c110",
   "metadata": {},
   "source": [
    "#### PCA Part!\n",
    "\n",
    "Bila kita ingin membuat sebuah plot 2 dimensi yang berisi produk-produk tersebut, maka sebelumnya kita perlu melakukan PCA terlebih dahulu.\n",
    "\n",
    "Sebagai demonstrasi, mari kita visualisasikan produk-produk berikut:\n",
    "- Sneaker\n",
    "- Boots\n",
    "- Dress"
   ]
  },
  {
   "cell_type": "code",
   "execution_count": 13,
   "id": "dd8ea861",
   "metadata": {},
   "outputs": [],
   "source": [
    "from sklearn.decomposition import PCA\n",
    "pca_visual = PCA(2)"
   ]
  },
  {
   "cell_type": "markdown",
   "id": "ca7bfa4b",
   "metadata": {},
   "source": [
    "Artinya, kita ingin membuat PCA dengan 2 Principal Component."
   ]
  },
  {
   "cell_type": "code",
   "execution_count": 14,
   "id": "d2bca764",
   "metadata": {},
   "outputs": [],
   "source": [
    "df_pilihan = df[df['name'].isin(['Sneaker', 'Boots', 'Dress'])].reset_index(drop = True)"
   ]
  },
  {
   "cell_type": "code",
   "execution_count": 15,
   "id": "03ca1285",
   "metadata": {},
   "outputs": [],
   "source": [
    "x_pilihan = df_pilihan.iloc[:,:-2]"
   ]
  },
  {
   "cell_type": "code",
   "execution_count": 16,
   "id": "4236ab62",
   "metadata": {},
   "outputs": [],
   "source": [
    "pca_visual.fit(x_pilihan)\n",
    "df_pca = pd.DataFrame(pca_visual.transform(x_pilihan))\n",
    "df_pca['label'] = df_pilihan['label']\n",
    "df_pca['name'] = df_pca['label'].map(dictionary)"
   ]
  },
  {
   "cell_type": "code",
   "execution_count": 17,
   "id": "e54c448b",
   "metadata": {},
   "outputs": [
    {
     "data": {
      "text/html": [
       "<div>\n",
       "<style scoped>\n",
       "    .dataframe tbody tr th:only-of-type {\n",
       "        vertical-align: middle;\n",
       "    }\n",
       "\n",
       "    .dataframe tbody tr th {\n",
       "        vertical-align: top;\n",
       "    }\n",
       "\n",
       "    .dataframe thead th {\n",
       "        text-align: right;\n",
       "    }\n",
       "</style>\n",
       "<table border=\"1\" class=\"dataframe\">\n",
       "  <thead>\n",
       "    <tr style=\"text-align: right;\">\n",
       "      <th></th>\n",
       "      <th>0</th>\n",
       "      <th>1</th>\n",
       "      <th>label</th>\n",
       "      <th>name</th>\n",
       "    </tr>\n",
       "  </thead>\n",
       "  <tbody>\n",
       "    <tr>\n",
       "      <th>0</th>\n",
       "      <td>-765.091150</td>\n",
       "      <td>1564.802266</td>\n",
       "      <td>9</td>\n",
       "      <td>Boots</td>\n",
       "    </tr>\n",
       "    <tr>\n",
       "      <th>1</th>\n",
       "      <td>1198.482474</td>\n",
       "      <td>-333.839292</td>\n",
       "      <td>3</td>\n",
       "      <td>Dress</td>\n",
       "    </tr>\n",
       "    <tr>\n",
       "      <th>2</th>\n",
       "      <td>-789.687142</td>\n",
       "      <td>-1046.903476</td>\n",
       "      <td>7</td>\n",
       "      <td>Sneaker</td>\n",
       "    </tr>\n",
       "    <tr>\n",
       "      <th>3</th>\n",
       "      <td>530.133650</td>\n",
       "      <td>1528.680303</td>\n",
       "      <td>9</td>\n",
       "      <td>Boots</td>\n",
       "    </tr>\n",
       "    <tr>\n",
       "      <th>4</th>\n",
       "      <td>-616.261774</td>\n",
       "      <td>-1373.674247</td>\n",
       "      <td>7</td>\n",
       "      <td>Sneaker</td>\n",
       "    </tr>\n",
       "    <tr>\n",
       "      <th>...</th>\n",
       "      <td>...</td>\n",
       "      <td>...</td>\n",
       "      <td>...</td>\n",
       "      <td>...</td>\n",
       "    </tr>\n",
       "    <tr>\n",
       "      <th>17995</th>\n",
       "      <td>15.057845</td>\n",
       "      <td>1354.471571</td>\n",
       "      <td>9</td>\n",
       "      <td>Boots</td>\n",
       "    </tr>\n",
       "    <tr>\n",
       "      <th>17996</th>\n",
       "      <td>-1026.558791</td>\n",
       "      <td>418.654952</td>\n",
       "      <td>7</td>\n",
       "      <td>Sneaker</td>\n",
       "    </tr>\n",
       "    <tr>\n",
       "      <th>17997</th>\n",
       "      <td>1924.532712</td>\n",
       "      <td>101.602722</td>\n",
       "      <td>3</td>\n",
       "      <td>Dress</td>\n",
       "    </tr>\n",
       "    <tr>\n",
       "      <th>17998</th>\n",
       "      <td>-784.065530</td>\n",
       "      <td>-581.997610</td>\n",
       "      <td>7</td>\n",
       "      <td>Sneaker</td>\n",
       "    </tr>\n",
       "    <tr>\n",
       "      <th>17999</th>\n",
       "      <td>1997.175568</td>\n",
       "      <td>83.165369</td>\n",
       "      <td>3</td>\n",
       "      <td>Dress</td>\n",
       "    </tr>\n",
       "  </tbody>\n",
       "</table>\n",
       "<p>18000 rows × 4 columns</p>\n",
       "</div>"
      ],
      "text/plain": [
       "                 0            1  label     name\n",
       "0      -765.091150  1564.802266      9    Boots\n",
       "1      1198.482474  -333.839292      3    Dress\n",
       "2      -789.687142 -1046.903476      7  Sneaker\n",
       "3       530.133650  1528.680303      9    Boots\n",
       "4      -616.261774 -1373.674247      7  Sneaker\n",
       "...            ...          ...    ...      ...\n",
       "17995    15.057845  1354.471571      9    Boots\n",
       "17996 -1026.558791   418.654952      7  Sneaker\n",
       "17997  1924.532712   101.602722      3    Dress\n",
       "17998  -784.065530  -581.997610      7  Sneaker\n",
       "17999  1997.175568    83.165369      3    Dress\n",
       "\n",
       "[18000 rows x 4 columns]"
      ]
     },
     "execution_count": 17,
     "metadata": {},
     "output_type": "execute_result"
    }
   ],
   "source": [
    "df_pca"
   ]
  },
  {
   "cell_type": "code",
   "execution_count": 18,
   "id": "fcd6f44a",
   "metadata": {},
   "outputs": [
    {
     "data": {
      "image/png": "[encoded data removed]",
      "text/plain": [
       "<Figure size 432x288 with 1 Axes>"
      ]
     },
     "metadata": {
      "needs_background": "light"
     },
     "output_type": "display_data"
    }
   ],
   "source": [
    "sns.scatterplot(data = df_pca, x = 0, y = 1, hue = 'name')\n",
    "plt.show()"
   ]
  },
  {
   "cell_type": "markdown",
   "id": "c506d66a",
   "metadata": {},
   "source": [
    "Dapat terlihat bahwa:\n",
    "- Boots dan Sneakers mirip, maka dari itu pada scatterplot, mereka memiliki lokasi yang 'dekat' dan banyak 'overlap'\n",
    "- Dress memiliki 'gerombolan sendiri', terpisah dari 'Boots dan Sneakers'"
   ]
  },
  {
   "cell_type": "markdown",
   "id": "4e8ed8da",
   "metadata": {},
   "source": [
    "Meskipun data berkurang dari 784 kolom sampai hanya 2 kolom saja, namun data hasil PCA masih bisa menangkap 'kesan' dan 'hubungan' bahwa:\n",
    "- Boots dan Sneakers adalah produk-produk yang terlihat mirip\n",
    "- Dress 'beda' dari kedua produk di atas"
   ]
  },
  {
   "cell_type": "markdown",
   "id": "5b2e72a4",
   "metadata": {},
   "source": [
    "Masih belum puas? Bagaimana kalau kita coba 'Sneakers', 'T-Shirt', dan 'Dress'? Dua produk atasan, dan satu untuk alas kaki. Kira-kira bentuknya seperti apa ya?"
   ]
  },
  {
   "cell_type": "code",
   "execution_count": 19,
   "id": "a924a10e",
   "metadata": {},
   "outputs": [
    {
     "data": {
      "image/png": "[encoded data removed]",
      "text/plain": [
       "<Figure size 432x288 with 1 Axes>"
      ]
     },
     "metadata": {
      "needs_background": "light"
     },
     "output_type": "display_data"
    }
   ],
   "source": [
    "from sklearn.decomposition import PCA\n",
    "pca_visual = PCA(2)\n",
    "\n",
    "df_pilihan = df[df['name'].isin(['Sneaker', 'T-Shirt', 'Dress'])].reset_index(drop = True)\n",
    "x_pilihan = df_pilihan.iloc[:,:-2]\n",
    "\n",
    "pca_visual.fit(x_pilihan)\n",
    "df_pca = pd.DataFrame(pca_visual.transform(x_pilihan))\n",
    "df_pca['label'] = df_pilihan['label']\n",
    "df_pca['name'] = df_pca['label'].map(dictionary)\n",
    "\n",
    "sns.scatterplot(data = df_pca, x = 0, y = 1, hue = 'name')\n",
    "plt.show()"
   ]
  },
  {
   "cell_type": "markdown",
   "id": "e6d1ca65",
   "metadata": {},
   "source": [
    "Di sini kita melihat bahwa PCA dapat menangkap hubungan antara 3 produk dengan baik:\n",
    "- T-Shirt dan Dress berjarak dekat, dan ada beberapa yang 'overlapping'\n",
    "- Sneaker yang 'beda sendiri'"
   ]
  },
  {
   "cell_type": "markdown",
   "id": "b442bc2e",
   "metadata": {},
   "source": [
    "Dalam PCA, kita belajar yang namanya 'explained variance', yaitu berapa 'persen' pesebaran data (variance) dalam dataset yang masih bisa dijelaskan setelah data tersebut direduksi oleh PCA."
   ]
  },
  {
   "cell_type": "code",
   "execution_count": 20,
   "id": "1ea642d7",
   "metadata": {},
   "outputs": [
    {
     "data": {
      "text/plain": [
       "array([0.44805283, 0.11486961])"
      ]
     },
     "execution_count": 20,
     "metadata": {},
     "output_type": "execute_result"
    }
   ],
   "source": [
    "pca_visual.explained_variance_ratio_"
   ]
  },
  {
   "cell_type": "markdown",
   "id": "dab754b3",
   "metadata": {},
   "source": [
    "Artinya, PC 1 (Principal Component Pertama, sumbu-x) menjelaskan 44.8% variance dalam data, sementara itu, PC 2 (Principal Component Kedua, sumbu-y) menjelaskan 11.48% variance dalam data.\n",
    "\n",
    "Hanya 2 PC saja sudah bisa menjelaskan total >50% variance of the data. Berarti, lebih dari setengah informasi yang terkandung dalam data dapat 'dijelaskan' hanya oleh 2 Principal Components. Jika kita melihat bahwa data ini memiliki 784 kolom pada awalnya, maka kita akan sadar bahwa ini adalah hal yang menakjubkan."
   ]
  },
  {
   "cell_type": "markdown",
   "id": "3982691e",
   "metadata": {},
   "source": [
    "Namun, bagaimana jika kita ingin menerapkan PCA bukan untuk visualisasi?"
   ]
  },
  {
   "cell_type": "markdown",
   "id": "68312995",
   "metadata": {},
   "source": [
    "### Part 2: PCA for Data Size Reduction"
   ]
  },
  {
   "cell_type": "markdown",
   "id": "4f29afe9",
   "metadata": {},
   "source": [
    "Mari kita langsung belajar implementasinya di Python.\n",
    "Kali ini, kita tidak hanya melakukan PCA, tapi membandingkan:\n",
    "- Logistic Regression tanpa terlebih dahulu melakukan PCA, vs\n",
    "- Logistic Regression dengan PCA"
   ]
  },
  {
   "cell_type": "code",
   "execution_count": 21,
   "id": "cdae992b",
   "metadata": {},
   "outputs": [],
   "source": [
    "(x_train, y_train), (x_test, y_test) = tf.keras.datasets.fashion_mnist.load_data()"
   ]
  },
  {
   "cell_type": "code",
   "execution_count": 22,
   "id": "0c019344",
   "metadata": {},
   "outputs": [
    {
     "name": "stdout",
     "output_type": "stream",
     "text": [
      "x_train shape: (60000, 28, 28)\n",
      "y_train shape: (60000,)\n",
      "x_test shape: (10000, 28, 28)\n",
      "y_test shape: (10000,)\n"
     ]
    }
   ],
   "source": [
    "print('x_train shape:', x_train.shape)\n",
    "print('y_train shape:', y_train.shape)\n",
    "print('x_test shape:', x_test.shape)\n",
    "print('y_test shape:', y_test.shape)"
   ]
  },
  {
   "cell_type": "markdown",
   "id": "b4fcbc18",
   "metadata": {},
   "source": [
    "Dataset yang di-download ini adalah dataset gambar-gambar pakaian (baju, celana, sepatu, dst). Bentuk datanya seperti berikut:"
   ]
  },
  {
   "cell_type": "code",
   "execution_count": 23,
   "id": "9ffd045b",
   "metadata": {},
   "outputs": [
    {
     "data": {
      "text/plain": [
       "array([[  0,   0,   0,   0,   0,   0,   0,  11, 142, 200, 106,   0,   0,\n",
       "          0,   0,   0,   0,   0,  85, 185, 112,   0,   0,   0,   0,   0,\n",
       "          0,   0],\n",
       "       [  0,   0,   0,   0,   0,   0, 152, 214, 217, 194, 236, 216, 187,\n",
       "        149, 135, 153, 211, 217, 231, 205, 217, 188,  34,   0,   0,   0,\n",
       "          0,   0],\n",
       "       [  0,   0,   0,   0,   0,  66, 185, 166, 180, 181, 190, 211, 221,\n",
       "        197, 146, 198, 206, 191, 168, 190, 172, 188, 175,   0,   0,   0,\n",
       "          0,   0],\n",
       "       [  0,   0,   0,   0,   0, 135, 153, 160, 175, 180, 170, 186, 187,\n",
       "        190, 188, 190, 187, 174, 195, 185, 174, 161, 175,  59,   0,   0,\n",
       "          0,   0],\n",
       "       [  0,   0,   0,   0,   0, 161, 147, 160, 170, 178, 177, 180, 168,\n",
       "        173, 174, 171, 185, 184, 185, 172, 171, 164, 174, 120,   0,   0,\n",
       "          0,   0],\n",
       "       [  0,   0,   0,   0,   2, 175, 146, 145, 168, 178, 181, 185, 180,\n",
       "        184, 178, 179, 187, 191, 193, 190, 181, 171, 172, 158,   0,   0,\n",
       "          0,   0],\n",
       "       [  0,   0,   0,   0,  35, 177, 155, 140, 151, 172, 191, 187, 186,\n",
       "        187, 186, 187, 182, 191, 194, 188, 180, 161, 161, 185,   0,   0,\n",
       "          0,   0],\n",
       "       [  0,   0,   0,   0,  59, 170, 153, 141, 120, 154, 160, 161, 172,\n",
       "        168, 166, 161, 165, 172, 170, 164, 139, 149, 162, 166,  21,   0,\n",
       "          0,   0],\n",
       "       [  0,   0,   0,   0,  79, 145, 160, 214, 123, 128, 153, 160, 164,\n",
       "        158, 157, 154, 155, 170, 165, 141, 195, 193, 152, 166,  61,   0,\n",
       "          0,   0],\n",
       "       [  0,   0,   0,   0, 100, 157, 225, 245, 175, 113, 174, 158, 158,\n",
       "        160, 155, 160, 164, 178, 188, 135, 185, 240, 201, 172, 108,   0,\n",
       "          0,   0],\n",
       "       [  0,   0,   0,   0,   0,  31, 174,  28, 126, 153, 166, 152, 158,\n",
       "        158, 160, 161, 157, 168, 191, 188,  18, 132, 159,   7,   0,   0,\n",
       "          0,   0],\n",
       "       [  0,   0,   0,   0,   0,   0,   0,   0,  82, 187, 159, 153, 157,\n",
       "        158, 162, 164, 164, 154, 187, 190,   0,   0,   0,   0,   0,   0,\n",
       "          0,   0],\n",
       "       [  0,   0,   0,   0,   1,   3,   5,   0,  37, 175, 158, 155, 162,\n",
       "        158, 160, 162, 165, 153, 177, 205,   0,   0,   3,   3,   0,   0,\n",
       "          0,   0],\n",
       "       [  0,   0,   0,   0,   0,   0,   1,   0,  25, 175, 152, 160, 158,\n",
       "        161, 160, 164, 164, 161, 166, 200,   0,   0,   1,   0,   0,   0,\n",
       "          0,   0],\n",
       "       [  0,   0,   0,   0,   0,   0,   4,   0,  30, 171, 147, 164, 155,\n",
       "        165, 161, 165, 162, 170, 164, 162,   0,   0,   2,   0,   0,   0,\n",
       "          0,   0],\n",
       "       [  0,   0,   0,   0,   0,   0,   4,   0,  57, 166, 155, 164, 166,\n",
       "        161, 161, 164, 167, 165, 165, 162,  28,   0,   3,   0,   0,   0,\n",
       "          0,   0],\n",
       "       [  0,   0,   0,   0,   0,   0,   3,   0, 114, 161, 161, 166, 159,\n",
       "        168, 161, 161, 172, 162, 165, 171,  50,   0,   5,   0,   0,   0,\n",
       "          0,   0],\n",
       "       [  0,   0,   0,   0,   0,   0,   1,   0, 149, 157, 167, 172, 159,\n",
       "        172, 164, 161, 172, 170, 160, 171,  89,   0,   4,   0,   0,   0,\n",
       "          0,   0],\n",
       "       [  0,   0,   0,   0,   0,   2,   0,   4, 171, 164, 166, 173, 159,\n",
       "        179, 166, 160, 174, 167, 162, 166, 128,   0,   2,   0,   0,   0,\n",
       "          0,   0],\n",
       "       [  0,   0,   0,   0,   0,   3,   0,  18, 152, 173, 160, 179, 154,\n",
       "        181, 166, 164, 175, 170, 166, 170, 164,   0,   0,   1,   0,   0,\n",
       "          0,   0],\n",
       "       [  0,   0,   0,   0,   0,   4,   0,  47, 165, 172, 167, 185, 153,\n",
       "        187, 173, 165, 174, 179, 166, 166, 158,   5,   0,   3,   0,   0,\n",
       "          0,   0],\n",
       "       [  0,   0,   0,   0,   0,   4,   0,  87, 180, 162, 179, 179, 157,\n",
       "        191, 182, 165, 168, 190, 173, 165, 166,  20,   0,   4,   0,   0,\n",
       "          0,   0],\n",
       "       [  0,   0,   0,   0,   0,   4,   0, 105, 187, 157, 194, 175, 161,\n",
       "        190, 184, 170, 158, 205, 177, 168, 171,  44,   0,   4,   0,   0,\n",
       "          0,   0],\n",
       "       [  0,   0,   0,   0,   0,   5,   0, 138, 181, 158, 205, 160, 167,\n",
       "        190, 198, 167, 152, 218, 186, 170, 172,  57,   0,   5,   0,   0,\n",
       "          0,   0],\n",
       "       [  0,   0,   0,   0,   0,   5,   0, 135, 174, 167, 199, 155, 166,\n",
       "        201, 219, 165, 158, 218, 188, 167, 175,  56,   0,   7,   0,   0,\n",
       "          0,   0],\n",
       "       [  0,   0,   0,   0,   0,   5,   0, 129, 171, 172, 177, 153, 159,\n",
       "        206, 216, 148, 157, 206, 190, 165, 175,  48,   0,   5,   0,   0,\n",
       "          0,   0],\n",
       "       [  0,   0,   0,   0,   0,   5,   0, 167, 187, 182, 198, 194, 200,\n",
       "        226, 240, 184, 206, 255, 197, 178, 179,  42,   0,   5,   0,   0,\n",
       "          0,   0],\n",
       "       [  0,   0,   0,   0,   0,   3,   0, 115, 135, 113, 106,  85,  82,\n",
       "        108, 133,  83,  90, 121, 120, 110, 158,  18,   0,   3,   0,   0,\n",
       "          0,   0]], dtype=uint8)"
      ]
     },
     "execution_count": 23,
     "metadata": {},
     "output_type": "execute_result"
    }
   ],
   "source": [
    "x_train[10]"
   ]
  },
  {
   "cell_type": "markdown",
   "id": "b1f64013",
   "metadata": {},
   "source": [
    "Tapi, jika kita gambarkan, maka akan jadi seperti berikut:"
   ]
  },
  {
   "cell_type": "code",
   "execution_count": 24,
   "id": "938fb00c",
   "metadata": {},
   "outputs": [
    {
     "name": "stdout",
     "output_type": "stream",
     "text": [
      "Label dari gambar ini adalah: 9\n"
     ]
    },
    {
     "data": {
      "image/png": "[encoded data removed]",
      "text/plain": [
       "<Figure size 432x288 with 1 Axes>"
      ]
     },
     "metadata": {
      "needs_background": "light"
     },
     "output_type": "display_data"
    }
   ],
   "source": [
    "plt.imshow(x_train[0])\n",
    "print('Label dari gambar ini adalah:', y_train[0])"
   ]
  },
  {
   "cell_type": "code",
   "execution_count": 25,
   "id": "78e245fb",
   "metadata": {},
   "outputs": [
    {
     "name": "stdout",
     "output_type": "stream",
     "text": [
      "Label dari gambar ini adalah: 0\n"
     ]
    },
    {
     "data": {
      "image/png": "[encoded data removed]",
      "text/plain": [
       "<Figure size 432x288 with 1 Axes>"
      ]
     },
     "metadata": {
      "needs_background": "light"
     },
     "output_type": "display_data"
    }
   ],
   "source": [
    "plt.imshow(x_train[10])\n",
    "print('Label dari gambar ini adalah:', y_train[10])"
   ]
  },
  {
   "cell_type": "markdown",
   "id": "1faf6fd7",
   "metadata": {},
   "source": [
    "Seperti yang terkandung dalam namanya, dataset ini berisi gambar 'fashion images' dan memiliki label 0 sampai 9. Apabila kita membaca dokumentasi dengan baik, maka kita mengetahui bahwa label-label nomor tersebut adalah sebagai berikut.\n",
    "\n",
    "- Label 0: T-Shirt (Kaos)\n",
    "- Label 1: Trouser (Celana Panjang)\n",
    "- Label 2: Pullover (Kaos Lengan Panjang)\n",
    "- Label 3: Dress (Gaun)\n",
    "- Label 4: Coat (Jaket, Sweater, dll)\n",
    "- Label 5: Sandal\n",
    "- Label 6: Shirt (Kemeja)\n",
    "- Label 7: Sneaker (Sepatu)\n",
    "- Label 8: Bag (Tas)\n",
    "- Label 9: Ankle Boot (Sepatu Boots)"
   ]
  },
  {
   "cell_type": "code",
   "execution_count": 26,
   "id": "ec1b40e3",
   "metadata": {},
   "outputs": [],
   "source": [
    "dictionary = {0:'T-Shirt', 1:'Trouser', 2:'Pullover', 3:'Dress', 4:'Coat', 5:'Sandal', 6:'Shirt',\n",
    "              7:'Sneaker', 8:'Bag', 9:'Boots'}"
   ]
  },
  {
   "cell_type": "code",
   "execution_count": 27,
   "id": "b6b0a4ba",
   "metadata": {},
   "outputs": [
    {
     "data": {
      "text/plain": [
       "(28, 28)"
      ]
     },
     "execution_count": 27,
     "metadata": {},
     "output_type": "execute_result"
    }
   ],
   "source": [
    "x_train[0].shape"
   ]
  },
  {
   "cell_type": "code",
   "execution_count": 28,
   "id": "5a840cb1",
   "metadata": {},
   "outputs": [],
   "source": [
    "x_train_flat = x_train.reshape(60000, 784)\n",
    "x_test_flat = x_test.reshape(10000, 784)"
   ]
  },
  {
   "cell_type": "code",
   "execution_count": 29,
   "id": "b3e4bfb4",
   "metadata": {},
   "outputs": [
    {
     "data": {
      "text/html": [
       "<div>\n",
       "<style scoped>\n",
       "    .dataframe tbody tr th:only-of-type {\n",
       "        vertical-align: middle;\n",
       "    }\n",
       "\n",
       "    .dataframe tbody tr th {\n",
       "        vertical-align: top;\n",
       "    }\n",
       "\n",
       "    .dataframe thead th {\n",
       "        text-align: right;\n",
       "    }\n",
       "</style>\n",
       "<table border=\"1\" class=\"dataframe\">\n",
       "  <thead>\n",
       "    <tr style=\"text-align: right;\">\n",
       "      <th></th>\n",
       "      <th>0</th>\n",
       "      <th>1</th>\n",
       "      <th>2</th>\n",
       "      <th>3</th>\n",
       "      <th>4</th>\n",
       "      <th>5</th>\n",
       "      <th>6</th>\n",
       "      <th>7</th>\n",
       "      <th>8</th>\n",
       "      <th>9</th>\n",
       "      <th>...</th>\n",
       "      <th>774</th>\n",
       "      <th>775</th>\n",
       "      <th>776</th>\n",
       "      <th>777</th>\n",
       "      <th>778</th>\n",
       "      <th>779</th>\n",
       "      <th>780</th>\n",
       "      <th>781</th>\n",
       "      <th>782</th>\n",
       "      <th>783</th>\n",
       "    </tr>\n",
       "  </thead>\n",
       "  <tbody>\n",
       "    <tr>\n",
       "      <th>0</th>\n",
       "      <td>0</td>\n",
       "      <td>0</td>\n",
       "      <td>0</td>\n",
       "      <td>0</td>\n",
       "      <td>0</td>\n",
       "      <td>0</td>\n",
       "      <td>0</td>\n",
       "      <td>0</td>\n",
       "      <td>0</td>\n",
       "      <td>0</td>\n",
       "      <td>...</td>\n",
       "      <td>0</td>\n",
       "      <td>0</td>\n",
       "      <td>0</td>\n",
       "      <td>0</td>\n",
       "      <td>0</td>\n",
       "      <td>0</td>\n",
       "      <td>0</td>\n",
       "      <td>0</td>\n",
       "      <td>0</td>\n",
       "      <td>0</td>\n",
       "    </tr>\n",
       "    <tr>\n",
       "      <th>1</th>\n",
       "      <td>0</td>\n",
       "      <td>0</td>\n",
       "      <td>0</td>\n",
       "      <td>0</td>\n",
       "      <td>0</td>\n",
       "      <td>1</td>\n",
       "      <td>0</td>\n",
       "      <td>0</td>\n",
       "      <td>0</td>\n",
       "      <td>0</td>\n",
       "      <td>...</td>\n",
       "      <td>119</td>\n",
       "      <td>114</td>\n",
       "      <td>130</td>\n",
       "      <td>76</td>\n",
       "      <td>0</td>\n",
       "      <td>0</td>\n",
       "      <td>0</td>\n",
       "      <td>0</td>\n",
       "      <td>0</td>\n",
       "      <td>0</td>\n",
       "    </tr>\n",
       "    <tr>\n",
       "      <th>2</th>\n",
       "      <td>0</td>\n",
       "      <td>0</td>\n",
       "      <td>0</td>\n",
       "      <td>0</td>\n",
       "      <td>0</td>\n",
       "      <td>0</td>\n",
       "      <td>0</td>\n",
       "      <td>0</td>\n",
       "      <td>0</td>\n",
       "      <td>22</td>\n",
       "      <td>...</td>\n",
       "      <td>0</td>\n",
       "      <td>0</td>\n",
       "      <td>1</td>\n",
       "      <td>0</td>\n",
       "      <td>0</td>\n",
       "      <td>0</td>\n",
       "      <td>0</td>\n",
       "      <td>0</td>\n",
       "      <td>0</td>\n",
       "      <td>0</td>\n",
       "    </tr>\n",
       "    <tr>\n",
       "      <th>3</th>\n",
       "      <td>0</td>\n",
       "      <td>0</td>\n",
       "      <td>0</td>\n",
       "      <td>0</td>\n",
       "      <td>0</td>\n",
       "      <td>0</td>\n",
       "      <td>0</td>\n",
       "      <td>0</td>\n",
       "      <td>33</td>\n",
       "      <td>96</td>\n",
       "      <td>...</td>\n",
       "      <td>0</td>\n",
       "      <td>0</td>\n",
       "      <td>0</td>\n",
       "      <td>0</td>\n",
       "      <td>0</td>\n",
       "      <td>0</td>\n",
       "      <td>0</td>\n",
       "      <td>0</td>\n",
       "      <td>0</td>\n",
       "      <td>0</td>\n",
       "    </tr>\n",
       "    <tr>\n",
       "      <th>4</th>\n",
       "      <td>0</td>\n",
       "      <td>0</td>\n",
       "      <td>0</td>\n",
       "      <td>0</td>\n",
       "      <td>0</td>\n",
       "      <td>0</td>\n",
       "      <td>0</td>\n",
       "      <td>0</td>\n",
       "      <td>0</td>\n",
       "      <td>0</td>\n",
       "      <td>...</td>\n",
       "      <td>0</td>\n",
       "      <td>0</td>\n",
       "      <td>0</td>\n",
       "      <td>0</td>\n",
       "      <td>0</td>\n",
       "      <td>0</td>\n",
       "      <td>0</td>\n",
       "      <td>0</td>\n",
       "      <td>0</td>\n",
       "      <td>0</td>\n",
       "    </tr>\n",
       "    <tr>\n",
       "      <th>...</th>\n",
       "      <td>...</td>\n",
       "      <td>...</td>\n",
       "      <td>...</td>\n",
       "      <td>...</td>\n",
       "      <td>...</td>\n",
       "      <td>...</td>\n",
       "      <td>...</td>\n",
       "      <td>...</td>\n",
       "      <td>...</td>\n",
       "      <td>...</td>\n",
       "      <td>...</td>\n",
       "      <td>...</td>\n",
       "      <td>...</td>\n",
       "      <td>...</td>\n",
       "      <td>...</td>\n",
       "      <td>...</td>\n",
       "      <td>...</td>\n",
       "      <td>...</td>\n",
       "      <td>...</td>\n",
       "      <td>...</td>\n",
       "      <td>...</td>\n",
       "    </tr>\n",
       "    <tr>\n",
       "      <th>59995</th>\n",
       "      <td>0</td>\n",
       "      <td>0</td>\n",
       "      <td>0</td>\n",
       "      <td>0</td>\n",
       "      <td>0</td>\n",
       "      <td>0</td>\n",
       "      <td>0</td>\n",
       "      <td>0</td>\n",
       "      <td>0</td>\n",
       "      <td>0</td>\n",
       "      <td>...</td>\n",
       "      <td>0</td>\n",
       "      <td>0</td>\n",
       "      <td>0</td>\n",
       "      <td>0</td>\n",
       "      <td>0</td>\n",
       "      <td>0</td>\n",
       "      <td>0</td>\n",
       "      <td>0</td>\n",
       "      <td>0</td>\n",
       "      <td>0</td>\n",
       "    </tr>\n",
       "    <tr>\n",
       "      <th>59996</th>\n",
       "      <td>0</td>\n",
       "      <td>0</td>\n",
       "      <td>0</td>\n",
       "      <td>0</td>\n",
       "      <td>0</td>\n",
       "      <td>0</td>\n",
       "      <td>0</td>\n",
       "      <td>0</td>\n",
       "      <td>0</td>\n",
       "      <td>0</td>\n",
       "      <td>...</td>\n",
       "      <td>0</td>\n",
       "      <td>0</td>\n",
       "      <td>0</td>\n",
       "      <td>0</td>\n",
       "      <td>0</td>\n",
       "      <td>0</td>\n",
       "      <td>0</td>\n",
       "      <td>0</td>\n",
       "      <td>0</td>\n",
       "      <td>0</td>\n",
       "    </tr>\n",
       "    <tr>\n",
       "      <th>59997</th>\n",
       "      <td>0</td>\n",
       "      <td>0</td>\n",
       "      <td>0</td>\n",
       "      <td>0</td>\n",
       "      <td>0</td>\n",
       "      <td>0</td>\n",
       "      <td>0</td>\n",
       "      <td>0</td>\n",
       "      <td>0</td>\n",
       "      <td>5</td>\n",
       "      <td>...</td>\n",
       "      <td>0</td>\n",
       "      <td>0</td>\n",
       "      <td>0</td>\n",
       "      <td>0</td>\n",
       "      <td>0</td>\n",
       "      <td>0</td>\n",
       "      <td>0</td>\n",
       "      <td>0</td>\n",
       "      <td>0</td>\n",
       "      <td>0</td>\n",
       "    </tr>\n",
       "    <tr>\n",
       "      <th>59998</th>\n",
       "      <td>0</td>\n",
       "      <td>0</td>\n",
       "      <td>0</td>\n",
       "      <td>0</td>\n",
       "      <td>0</td>\n",
       "      <td>0</td>\n",
       "      <td>0</td>\n",
       "      <td>0</td>\n",
       "      <td>0</td>\n",
       "      <td>0</td>\n",
       "      <td>...</td>\n",
       "      <td>66</td>\n",
       "      <td>54</td>\n",
       "      <td>50</td>\n",
       "      <td>5</td>\n",
       "      <td>0</td>\n",
       "      <td>1</td>\n",
       "      <td>0</td>\n",
       "      <td>0</td>\n",
       "      <td>0</td>\n",
       "      <td>0</td>\n",
       "    </tr>\n",
       "    <tr>\n",
       "      <th>59999</th>\n",
       "      <td>0</td>\n",
       "      <td>0</td>\n",
       "      <td>0</td>\n",
       "      <td>0</td>\n",
       "      <td>0</td>\n",
       "      <td>0</td>\n",
       "      <td>0</td>\n",
       "      <td>0</td>\n",
       "      <td>0</td>\n",
       "      <td>0</td>\n",
       "      <td>...</td>\n",
       "      <td>0</td>\n",
       "      <td>0</td>\n",
       "      <td>0</td>\n",
       "      <td>0</td>\n",
       "      <td>0</td>\n",
       "      <td>0</td>\n",
       "      <td>0</td>\n",
       "      <td>0</td>\n",
       "      <td>0</td>\n",
       "      <td>0</td>\n",
       "    </tr>\n",
       "  </tbody>\n",
       "</table>\n",
       "<p>60000 rows × 784 columns</p>\n",
       "</div>"
      ],
      "text/plain": [
       "       0    1    2    3    4    5    6    7    8    9    ...  774  775  776  \\\n",
       "0        0    0    0    0    0    0    0    0    0    0  ...    0    0    0   \n",
       "1        0    0    0    0    0    1    0    0    0    0  ...  119  114  130   \n",
       "2        0    0    0    0    0    0    0    0    0   22  ...    0    0    1   \n",
       "3        0    0    0    0    0    0    0    0   33   96  ...    0    0    0   \n",
       "4        0    0    0    0    0    0    0    0    0    0  ...    0    0    0   \n",
       "...    ...  ...  ...  ...  ...  ...  ...  ...  ...  ...  ...  ...  ...  ...   \n",
       "59995    0    0    0    0    0    0    0    0    0    0  ...    0    0    0   \n",
       "59996    0    0    0    0    0    0    0    0    0    0  ...    0    0    0   \n",
       "59997    0    0    0    0    0    0    0    0    0    5  ...    0    0    0   \n",
       "59998    0    0    0    0    0    0    0    0    0    0  ...   66   54   50   \n",
       "59999    0    0    0    0    0    0    0    0    0    0  ...    0    0    0   \n",
       "\n",
       "       777  778  779  780  781  782  783  \n",
       "0        0    0    0    0    0    0    0  \n",
       "1       76    0    0    0    0    0    0  \n",
       "2        0    0    0    0    0    0    0  \n",
       "3        0    0    0    0    0    0    0  \n",
       "4        0    0    0    0    0    0    0  \n",
       "...    ...  ...  ...  ...  ...  ...  ...  \n",
       "59995    0    0    0    0    0    0    0  \n",
       "59996    0    0    0    0    0    0    0  \n",
       "59997    0    0    0    0    0    0    0  \n",
       "59998    5    0    1    0    0    0    0  \n",
       "59999    0    0    0    0    0    0    0  \n",
       "\n",
       "[60000 rows x 784 columns]"
      ]
     },
     "execution_count": 29,
     "metadata": {},
     "output_type": "execute_result"
    }
   ],
   "source": [
    "pd.DataFrame(x_train_flat)"
   ]
  },
  {
   "cell_type": "code",
   "execution_count": 30,
   "id": "7707b7f6",
   "metadata": {},
   "outputs": [
    {
     "data": {
      "text/html": [
       "<div>\n",
       "<style scoped>\n",
       "    .dataframe tbody tr th:only-of-type {\n",
       "        vertical-align: middle;\n",
       "    }\n",
       "\n",
       "    .dataframe tbody tr th {\n",
       "        vertical-align: top;\n",
       "    }\n",
       "\n",
       "    .dataframe thead th {\n",
       "        text-align: right;\n",
       "    }\n",
       "</style>\n",
       "<table border=\"1\" class=\"dataframe\">\n",
       "  <thead>\n",
       "    <tr style=\"text-align: right;\">\n",
       "      <th></th>\n",
       "      <th>0</th>\n",
       "    </tr>\n",
       "  </thead>\n",
       "  <tbody>\n",
       "    <tr>\n",
       "      <th>0</th>\n",
       "      <td>9</td>\n",
       "    </tr>\n",
       "    <tr>\n",
       "      <th>1</th>\n",
       "      <td>0</td>\n",
       "    </tr>\n",
       "    <tr>\n",
       "      <th>2</th>\n",
       "      <td>0</td>\n",
       "    </tr>\n",
       "    <tr>\n",
       "      <th>3</th>\n",
       "      <td>3</td>\n",
       "    </tr>\n",
       "    <tr>\n",
       "      <th>4</th>\n",
       "      <td>0</td>\n",
       "    </tr>\n",
       "    <tr>\n",
       "      <th>...</th>\n",
       "      <td>...</td>\n",
       "    </tr>\n",
       "    <tr>\n",
       "      <th>59995</th>\n",
       "      <td>5</td>\n",
       "    </tr>\n",
       "    <tr>\n",
       "      <th>59996</th>\n",
       "      <td>1</td>\n",
       "    </tr>\n",
       "    <tr>\n",
       "      <th>59997</th>\n",
       "      <td>3</td>\n",
       "    </tr>\n",
       "    <tr>\n",
       "      <th>59998</th>\n",
       "      <td>0</td>\n",
       "    </tr>\n",
       "    <tr>\n",
       "      <th>59999</th>\n",
       "      <td>5</td>\n",
       "    </tr>\n",
       "  </tbody>\n",
       "</table>\n",
       "<p>60000 rows × 1 columns</p>\n",
       "</div>"
      ],
      "text/plain": [
       "       0\n",
       "0      9\n",
       "1      0\n",
       "2      0\n",
       "3      3\n",
       "4      0\n",
       "...   ..\n",
       "59995  5\n",
       "59996  1\n",
       "59997  3\n",
       "59998  0\n",
       "59999  5\n",
       "\n",
       "[60000 rows x 1 columns]"
      ]
     },
     "execution_count": 30,
     "metadata": {},
     "output_type": "execute_result"
    }
   ],
   "source": [
    "pd.DataFrame(y_train)"
   ]
  },
  {
   "cell_type": "markdown",
   "id": "db0334a5",
   "metadata": {},
   "source": [
    "Pertama, mari kita buat sebuah fungsi yang akan melakukan hal-hal berikut:\n",
    "1. Melatih model logistic regression berdasarkan data training\n",
    "2. Mencatat waktu yang dibutuhkan untuk melatih model logistic regression\n",
    "3. Mencatat akurasi model logistic regression (melakukan prediksi pada test set, dan membandingkan prediksi tsb dengan nilai aktualnya)"
   ]
  },
  {
   "cell_type": "code",
   "execution_count": 31,
   "id": "7b8604e7",
   "metadata": {},
   "outputs": [],
   "source": [
    "from sklearn.linear_model import LogisticRegression\n",
    "from sklearn.metrics import accuracy_score\n",
    "\n",
    "def fit_evaluate(x_train, y_train, x_test, y_test, return_pred = False):\n",
    "    model = LogisticRegression()\n",
    "    start = time.time()\n",
    "    model.fit(x_train, y_train)\n",
    "    end = time.time()\n",
    "\n",
    "    duration = end-start\n",
    "    accuracy = accuracy_score(y_test, model.predict(x_test))\n",
    "\n",
    "    if return_pred == False:\n",
    "        return duration, accuracy\n",
    "    else:\n",
    "        return duration, accuracy, model.predict(x_test)"
   ]
  },
  {
   "cell_type": "code",
   "execution_count": 32,
   "id": "45bbc7fe",
   "metadata": {},
   "outputs": [],
   "source": [
    "duration_raw, accuracy_raw = fit_evaluate(x_train_flat, y_train,\n",
    "                                    x_test_flat, y_test)"
   ]
  },
  {
   "cell_type": "code",
   "execution_count": 33,
   "id": "782fa5e2",
   "metadata": {},
   "outputs": [
    {
     "name": "stdout",
     "output_type": "stream",
     "text": [
      "Time elapsed: 23.802830934524536 seconds.\n",
      "Model accuracy: 0.8412 percent.\n"
     ]
    }
   ],
   "source": [
    "print('Time elapsed:', duration_raw, 'seconds.')\n",
    "print('Model accuracy:', accuracy_raw, 'percent.')"
   ]
  },
  {
   "cell_type": "markdown",
   "id": "98046492",
   "metadata": {},
   "source": [
    "Model Logistic Regression memakan waktu 24 seconds (di laptop/mesin saya. Mungkin, di mesin teman-teman, angkanya bisa berbeda). Akurasinya sekitar 84 persen."
   ]
  },
  {
   "cell_type": "markdown",
   "id": "f605f817",
   "metadata": {},
   "source": [
    "Selanjutnya, mari kita lakukan PCA terlebih dahulu terhadap `x_train_flat`, baru hasil PCA nya kita masukkan sebagai `training` dan `test` data. "
   ]
  },
  {
   "cell_type": "code",
   "execution_count": 34,
   "id": "7cdf0711",
   "metadata": {},
   "outputs": [],
   "source": [
    "from sklearn.decomposition import PCA\n",
    "pca_95 = PCA(0.95)"
   ]
  },
  {
   "cell_type": "markdown",
   "id": "63c52f25",
   "metadata": {},
   "source": [
    "Oke. Kita berhenti dulu. Apa artinya `PCA(0.95)`? Artinya, kita ingin mengambil sebanyak `n` Principal Components, sampai `variance` yang dapat dijelaskan PCA mencapai 95%."
   ]
  },
  {
   "cell_type": "code",
   "execution_count": 35,
   "id": "213cda78",
   "metadata": {},
   "outputs": [],
   "source": [
    "start_time = time.time()\n",
    "pca_95.fit(x_train_flat)\n",
    "x_train_pca_95 = pca_95.transform(x_train_flat)\n",
    "x_test_pca_95 = pca_95.transform(x_test_flat)\n",
    "finish_time = time.time()"
   ]
  },
  {
   "cell_type": "code",
   "execution_count": 36,
   "id": "3a27ab95",
   "metadata": {},
   "outputs": [
    {
     "name": "stdout",
     "output_type": "stream",
     "text": [
      "PCA Fit and Transform finished in 10.863161563873291 seconds.\n",
      "Hanya tersisa: 187 feature columns setelah dlakukan PCA.\n",
      "PCA kali ini berhasil mereduksi dataset sebanyak 76.14795918367348 persen\n"
     ]
    }
   ],
   "source": [
    "print('PCA Fit and Transform finished in', finish_time - start_time, 'seconds.')\n",
    "print('Hanya tersisa:', pca_95.n_components_, 'feature columns setelah dlakukan PCA.')\n",
    "print('PCA kali ini berhasil mereduksi dataset sebanyak', (1-(pca_95.n_components_/784))*100, 'persen')"
   ]
  },
  {
   "cell_type": "code",
   "execution_count": 37,
   "id": "a28b56c8",
   "metadata": {},
   "outputs": [
    {
     "data": {
      "text/plain": [
       "187"
      ]
     },
     "execution_count": 37,
     "metadata": {},
     "output_type": "execute_result"
    }
   ],
   "source": [
    "pca_95.n_components_"
   ]
  },
  {
   "cell_type": "markdown",
   "id": "2f500ed0",
   "metadata": {},
   "source": [
    "Ternyata, untuk mencapai 95% explained variance, hanya dibutuhkan 187 kolom. Padahal, jika kita ingat, di awal tadi, data kita awalnya memiliki lebih dari 700 kolom!"
   ]
  },
  {
   "cell_type": "code",
   "execution_count": 38,
   "id": "fed417b5",
   "metadata": {},
   "outputs": [
    {
     "data": {
      "image/png": "[encoded data removed]",
      "text/plain": [
       "<Figure size 432x288 with 1 Axes>"
      ]
     },
     "metadata": {
      "needs_background": "light"
     },
     "output_type": "display_data"
    }
   ],
   "source": [
    "plt.plot(np.cumsum(pca_95.explained_variance_ratio_))\n",
    "plt.show()"
   ]
  },
  {
   "cell_type": "markdown",
   "id": "1048fba3",
   "metadata": {},
   "source": [
    "Jika kita mau lebih ekstrem, kita bisa saja memilih hanya 100 Principal Components, karena explained variancenya sudah sekitar 90%. Let's do that the next time! Sekarang, kita fokus dulu di PCA 0.95."
   ]
  },
  {
   "cell_type": "code",
   "execution_count": 39,
   "id": "28cb82de",
   "metadata": {},
   "outputs": [],
   "source": [
    "duration_pca, accuracy_pca = fit_evaluate(x_train_pca_95, y_train,\n",
    "                                    x_test_pca_95, y_test)"
   ]
  },
  {
   "cell_type": "code",
   "execution_count": 40,
   "id": "9b6411ac",
   "metadata": {},
   "outputs": [
    {
     "name": "stdout",
     "output_type": "stream",
     "text": [
      "Time elapsed: 10.09374475479126 seconds.\n",
      "Model accuracy: 0.8425 percent.\n"
     ]
    }
   ],
   "source": [
    "print('Time elapsed:', duration_pca, 'seconds.')\n",
    "print('Model accuracy:', accuracy_pca, 'percent.')"
   ]
  },
  {
   "cell_type": "code",
   "execution_count": 41,
   "id": "30563bc6",
   "metadata": {},
   "outputs": [
    {
     "data": {
      "text/plain": [
       "(60000, 187)"
      ]
     },
     "execution_count": 41,
     "metadata": {},
     "output_type": "execute_result"
    }
   ],
   "source": [
    "x_train_pca_95.shape"
   ]
  },
  {
   "cell_type": "code",
   "execution_count": 42,
   "id": "1db39965",
   "metadata": {},
   "outputs": [
    {
     "data": {
      "text/plain": [
       "(60000, 784)"
      ]
     },
     "execution_count": 42,
     "metadata": {},
     "output_type": "execute_result"
    }
   ],
   "source": [
    "x_train_flat.shape"
   ]
  },
  {
   "cell_type": "markdown",
   "id": "87e6ac70",
   "metadata": {},
   "source": [
    "Ternyata, logistic regression yang dilatih menggunakan data yang telah di-PCA kan hanya memakan waktu 10 detik (di mesin/laptop saya). Kurang dari 50% waktu di awal tadi. Bagaimana dengan di device teman-teman sekalian? \n",
    "\n",
    "Akurasinya pun masih sama, di sekitar 84%. This is the power of PCA.\n",
    "Next, kita coba dengan mengambil 100 Principal Components pertama. "
   ]
  },
  {
   "cell_type": "code",
   "execution_count": 70,
   "id": "e6d22095",
   "metadata": {},
   "outputs": [
    {
     "name": "stdout",
     "output_type": "stream",
     "text": [
      "PCA Fit and Transform finished in 5.080373764038086 seconds.\n",
      "Hanya tersisa: 100 feature columns setelah dlakukan PCA.\n",
      "PCA kali ini berhasil mereduksi dataset sebanyak 87.24489795918367 persen\n"
     ]
    }
   ],
   "source": [
    "from sklearn.decomposition import PCA\n",
    "\n",
    "pca_2 = PCA(100) # take 100 principal components\n",
    "\n",
    "start_time = time.time()\n",
    "pca_2.fit(x_train_flat)\n",
    "x_train_pca_2 = pca_2.transform(x_train_flat)\n",
    "x_test_pca_2 = pca_2.transform(x_test_flat)\n",
    "finish_time = time.time()\n",
    "\n",
    "print('PCA Fit and Transform finished in', finish_time - start_time, 'seconds.')\n",
    "print('Hanya tersisa:', pca_2.n_components_, 'feature columns setelah dlakukan PCA.')\n",
    "print('PCA kali ini berhasil mereduksi dataset sebanyak', (1-(pca_2.n_components_/784))*100, 'persen')"
   ]
  },
  {
   "cell_type": "code",
   "execution_count": 71,
   "id": "052a4763",
   "metadata": {},
   "outputs": [
    {
     "name": "stdout",
     "output_type": "stream",
     "text": [
      "Time elapsed: 8.075601577758789 seconds.\n",
      "Model accuracy: 0.8375 percent.\n"
     ]
    }
   ],
   "source": [
    "duration_pca_2, accuracy_pca_2 = fit_evaluate(x_train_pca_2, y_train,\n",
    "                                    x_test_pca_2, y_test)\n",
    "\n",
    "print('Time elapsed:', duration_pca_2, 'seconds.')\n",
    "print('Model accuracy:', accuracy_pca_2, 'percent.')"
   ]
  },
  {
   "cell_type": "markdown",
   "id": "fe026157",
   "metadata": {},
   "source": [
    "Waktu yang dimakan lebih singkat lagi. Memang, akurasinya pun menurun, namun tidak sampai drastis. Padahal, hanya 13-14% data original yang kita masukkan ke model Logistic Regression. "
   ]
  },
  {
   "cell_type": "markdown",
   "id": "f9a22909",
   "metadata": {},
   "source": [
    "### Part 3: Factor Analysis"
   ]
  },
  {
   "cell_type": "markdown",
   "id": "9487392d",
   "metadata": {},
   "source": [
    "Factor Analysis adalah sebuah metode untuk mengelompokkan berbagai variabel bebas apabila kita mengasumsikan terdapat hubungan antara variabel-variabel bebas tersebut. \n",
    "\n",
    "Dataset yang digunakan dalam mempelajari Factor Analysis adalah data Personality Test yang dilakukan HRD perusahaan. Nama-nama kolom melambangkan personality traits yang dimiliki oleh peserta.\n",
    "\n",
    "Terkaan saya adalah data ini nantinya akan menjadi data klasifikasi (1 vs 0 = 1 >> diterima, 0 >> tidak diterima). Tapi kolom `y` ini tidak terdapat pada dataset yang diberikan. Tidak masalah, karena yang kita pelajari sekarang adalah `unsupervised` learning.\n",
    "\n",
    "Apakah 32 'aspek kepribadian' bisa disederhanakan menjadi jumlah kolom yang lebih sedikit?"
   ]
  },
  {
   "cell_type": "code",
   "execution_count": 45,
   "id": "36b7990d",
   "metadata": {},
   "outputs": [],
   "source": [
    "data = pd.read_csv('personality_hr.csv')"
   ]
  },
  {
   "cell_type": "code",
   "execution_count": 46,
   "id": "fbc25a74",
   "metadata": {},
   "outputs": [
    {
     "data": {
      "text/html": [
       "<div>\n",
       "<style scoped>\n",
       "    .dataframe tbody tr th:only-of-type {\n",
       "        vertical-align: middle;\n",
       "    }\n",
       "\n",
       "    .dataframe tbody tr th {\n",
       "        vertical-align: top;\n",
       "    }\n",
       "\n",
       "    .dataframe thead th {\n",
       "        text-align: right;\n",
       "    }\n",
       "</style>\n",
       "<table border=\"1\" class=\"dataframe\">\n",
       "  <thead>\n",
       "    <tr style=\"text-align: right;\">\n",
       "      <th></th>\n",
       "      <th>\"distant\"</th>\n",
       "      <th>\"talkatv\"</th>\n",
       "      <th>\"carelss\"</th>\n",
       "      <th>\"hardwrk\"</th>\n",
       "      <th>\"anxious\"</th>\n",
       "      <th>\"agreebl\"</th>\n",
       "      <th>\"tense\"</th>\n",
       "      <th>\"kind\"</th>\n",
       "      <th>\"opposng\"</th>\n",
       "      <th>\"relaxed\"</th>\n",
       "      <th>...</th>\n",
       "      <th>\"lazy\"</th>\n",
       "      <th>\"coopera\"</th>\n",
       "      <th>\"quiet\"</th>\n",
       "      <th>\"organiz\"</th>\n",
       "      <th>\"criticl\"</th>\n",
       "      <th>\"lax\"</th>\n",
       "      <th>\"laidbck\"</th>\n",
       "      <th>\"withdrw\"</th>\n",
       "      <th>\"givinup\"</th>\n",
       "      <th>\"easygon\"</th>\n",
       "    </tr>\n",
       "  </thead>\n",
       "  <tbody>\n",
       "    <tr>\n",
       "      <th>0</th>\n",
       "      <td>3</td>\n",
       "      <td>8</td>\n",
       "      <td>2</td>\n",
       "      <td>7</td>\n",
       "      <td>5</td>\n",
       "      <td>8</td>\n",
       "      <td>4</td>\n",
       "      <td>8</td>\n",
       "      <td>5</td>\n",
       "      <td>7</td>\n",
       "      <td>...</td>\n",
       "      <td>2</td>\n",
       "      <td>7</td>\n",
       "      <td>6</td>\n",
       "      <td>6</td>\n",
       "      <td>4</td>\n",
       "      <td>3</td>\n",
       "      <td>7</td>\n",
       "      <td>2</td>\n",
       "      <td>2</td>\n",
       "      <td>7</td>\n",
       "    </tr>\n",
       "    <tr>\n",
       "      <th>1</th>\n",
       "      <td>6</td>\n",
       "      <td>6</td>\n",
       "      <td>2</td>\n",
       "      <td>5</td>\n",
       "      <td>1</td>\n",
       "      <td>8</td>\n",
       "      <td>2</td>\n",
       "      <td>9</td>\n",
       "      <td>2</td>\n",
       "      <td>8</td>\n",
       "      <td>...</td>\n",
       "      <td>5</td>\n",
       "      <td>8</td>\n",
       "      <td>7</td>\n",
       "      <td>4</td>\n",
       "      <td>5</td>\n",
       "      <td>5</td>\n",
       "      <td>7</td>\n",
       "      <td>6</td>\n",
       "      <td>2</td>\n",
       "      <td>8</td>\n",
       "    </tr>\n",
       "    <tr>\n",
       "      <th>2</th>\n",
       "      <td>3</td>\n",
       "      <td>7</td>\n",
       "      <td>6</td>\n",
       "      <td>7</td>\n",
       "      <td>8</td>\n",
       "      <td>8</td>\n",
       "      <td>2</td>\n",
       "      <td>8</td>\n",
       "      <td>3</td>\n",
       "      <td>7</td>\n",
       "      <td>...</td>\n",
       "      <td>3</td>\n",
       "      <td>8</td>\n",
       "      <td>4</td>\n",
       "      <td>7</td>\n",
       "      <td>6</td>\n",
       "      <td>6</td>\n",
       "      <td>6</td>\n",
       "      <td>4</td>\n",
       "      <td>3</td>\n",
       "      <td>7</td>\n",
       "    </tr>\n",
       "    <tr>\n",
       "      <th>3</th>\n",
       "      <td>7</td>\n",
       "      <td>3</td>\n",
       "      <td>3</td>\n",
       "      <td>5</td>\n",
       "      <td>8</td>\n",
       "      <td>6</td>\n",
       "      <td>7</td>\n",
       "      <td>2</td>\n",
       "      <td>3</td>\n",
       "      <td>3</td>\n",
       "      <td>...</td>\n",
       "      <td>6</td>\n",
       "      <td>6</td>\n",
       "      <td>7</td>\n",
       "      <td>5</td>\n",
       "      <td>5</td>\n",
       "      <td>3</td>\n",
       "      <td>3</td>\n",
       "      <td>7</td>\n",
       "      <td>5</td>\n",
       "      <td>5</td>\n",
       "    </tr>\n",
       "    <tr>\n",
       "      <th>4</th>\n",
       "      <td>7</td>\n",
       "      <td>6</td>\n",
       "      <td>7</td>\n",
       "      <td>6</td>\n",
       "      <td>7</td>\n",
       "      <td>8</td>\n",
       "      <td>7</td>\n",
       "      <td>8</td>\n",
       "      <td>5</td>\n",
       "      <td>5</td>\n",
       "      <td>...</td>\n",
       "      <td>5</td>\n",
       "      <td>7</td>\n",
       "      <td>8</td>\n",
       "      <td>6</td>\n",
       "      <td>6</td>\n",
       "      <td>4</td>\n",
       "      <td>4</td>\n",
       "      <td>6</td>\n",
       "      <td>4</td>\n",
       "      <td>7</td>\n",
       "    </tr>\n",
       "    <tr>\n",
       "      <th>...</th>\n",
       "      <td>...</td>\n",
       "      <td>...</td>\n",
       "      <td>...</td>\n",
       "      <td>...</td>\n",
       "      <td>...</td>\n",
       "      <td>...</td>\n",
       "      <td>...</td>\n",
       "      <td>...</td>\n",
       "      <td>...</td>\n",
       "      <td>...</td>\n",
       "      <td>...</td>\n",
       "      <td>...</td>\n",
       "      <td>...</td>\n",
       "      <td>...</td>\n",
       "      <td>...</td>\n",
       "      <td>...</td>\n",
       "      <td>...</td>\n",
       "      <td>...</td>\n",
       "      <td>...</td>\n",
       "      <td>...</td>\n",
       "      <td>...</td>\n",
       "    </tr>\n",
       "    <tr>\n",
       "      <th>234</th>\n",
       "      <td>3</td>\n",
       "      <td>6</td>\n",
       "      <td>3</td>\n",
       "      <td>7</td>\n",
       "      <td>5</td>\n",
       "      <td>6</td>\n",
       "      <td>4</td>\n",
       "      <td>7</td>\n",
       "      <td>3</td>\n",
       "      <td>7</td>\n",
       "      <td>...</td>\n",
       "      <td>4</td>\n",
       "      <td>7</td>\n",
       "      <td>4</td>\n",
       "      <td>7</td>\n",
       "      <td>5</td>\n",
       "      <td>5</td>\n",
       "      <td>6</td>\n",
       "      <td>6</td>\n",
       "      <td>3</td>\n",
       "      <td>7</td>\n",
       "    </tr>\n",
       "    <tr>\n",
       "      <th>235</th>\n",
       "      <td>2</td>\n",
       "      <td>8</td>\n",
       "      <td>3</td>\n",
       "      <td>7</td>\n",
       "      <td>2</td>\n",
       "      <td>7</td>\n",
       "      <td>2</td>\n",
       "      <td>7</td>\n",
       "      <td>2</td>\n",
       "      <td>8</td>\n",
       "      <td>...</td>\n",
       "      <td>4</td>\n",
       "      <td>6</td>\n",
       "      <td>4</td>\n",
       "      <td>7</td>\n",
       "      <td>2</td>\n",
       "      <td>4</td>\n",
       "      <td>7</td>\n",
       "      <td>3</td>\n",
       "      <td>2</td>\n",
       "      <td>7</td>\n",
       "    </tr>\n",
       "    <tr>\n",
       "      <th>236</th>\n",
       "      <td>4</td>\n",
       "      <td>9</td>\n",
       "      <td>3</td>\n",
       "      <td>9</td>\n",
       "      <td>7</td>\n",
       "      <td>7</td>\n",
       "      <td>5</td>\n",
       "      <td>7</td>\n",
       "      <td>5</td>\n",
       "      <td>5</td>\n",
       "      <td>...</td>\n",
       "      <td>3</td>\n",
       "      <td>5</td>\n",
       "      <td>2</td>\n",
       "      <td>7</td>\n",
       "      <td>3</td>\n",
       "      <td>3</td>\n",
       "      <td>7</td>\n",
       "      <td>2</td>\n",
       "      <td>1</td>\n",
       "      <td>6</td>\n",
       "    </tr>\n",
       "    <tr>\n",
       "      <th>237</th>\n",
       "      <td>3</td>\n",
       "      <td>8</td>\n",
       "      <td>4</td>\n",
       "      <td>9</td>\n",
       "      <td>7</td>\n",
       "      <td>6</td>\n",
       "      <td>5</td>\n",
       "      <td>6</td>\n",
       "      <td>3</td>\n",
       "      <td>5</td>\n",
       "      <td>...</td>\n",
       "      <td>1</td>\n",
       "      <td>6</td>\n",
       "      <td>5</td>\n",
       "      <td>7</td>\n",
       "      <td>5</td>\n",
       "      <td>2</td>\n",
       "      <td>5</td>\n",
       "      <td>3</td>\n",
       "      <td>2</td>\n",
       "      <td>7</td>\n",
       "    </tr>\n",
       "    <tr>\n",
       "      <th>238</th>\n",
       "      <td>8</td>\n",
       "      <td>6</td>\n",
       "      <td>7</td>\n",
       "      <td>7</td>\n",
       "      <td>9</td>\n",
       "      <td>9</td>\n",
       "      <td>9</td>\n",
       "      <td>6</td>\n",
       "      <td>8</td>\n",
       "      <td>4</td>\n",
       "      <td>...</td>\n",
       "      <td>6</td>\n",
       "      <td>8</td>\n",
       "      <td>8</td>\n",
       "      <td>3</td>\n",
       "      <td>9</td>\n",
       "      <td>3</td>\n",
       "      <td>1</td>\n",
       "      <td>7</td>\n",
       "      <td>3</td>\n",
       "      <td>3</td>\n",
       "    </tr>\n",
       "  </tbody>\n",
       "</table>\n",
       "<p>239 rows × 32 columns</p>\n",
       "</div>"
      ],
      "text/plain": [
       "     \"distant\"  \"talkatv\"  \"carelss\"  \"hardwrk\"  \"anxious\"  \"agreebl\"  \\\n",
       "0            3          8          2          7          5          8   \n",
       "1            6          6          2          5          1          8   \n",
       "2            3          7          6          7          8          8   \n",
       "3            7          3          3          5          8          6   \n",
       "4            7          6          7          6          7          8   \n",
       "..         ...        ...        ...        ...        ...        ...   \n",
       "234          3          6          3          7          5          6   \n",
       "235          2          8          3          7          2          7   \n",
       "236          4          9          3          9          7          7   \n",
       "237          3          8          4          9          7          6   \n",
       "238          8          6          7          7          9          9   \n",
       "\n",
       "     \"tense\"  \"kind\"  \"opposng\"  \"relaxed\"  ...  \"lazy\"  \"coopera\"  \"quiet\"  \\\n",
       "0          4       8          5          7  ...       2          7        6   \n",
       "1          2       9          2          8  ...       5          8        7   \n",
       "2          2       8          3          7  ...       3          8        4   \n",
       "3          7       2          3          3  ...       6          6        7   \n",
       "4          7       8          5          5  ...       5          7        8   \n",
       "..       ...     ...        ...        ...  ...     ...        ...      ...   \n",
       "234        4       7          3          7  ...       4          7        4   \n",
       "235        2       7          2          8  ...       4          6        4   \n",
       "236        5       7          5          5  ...       3          5        2   \n",
       "237        5       6          3          5  ...       1          6        5   \n",
       "238        9       6          8          4  ...       6          8        8   \n",
       "\n",
       "     \"organiz\"  \"criticl\"  \"lax\"  \"laidbck\"  \"withdrw\"  \"givinup\"  \"easygon\"  \n",
       "0            6          4      3          7          2          2          7  \n",
       "1            4          5      5          7          6          2          8  \n",
       "2            7          6      6          6          4          3          7  \n",
       "3            5          5      3          3          7          5          5  \n",
       "4            6          6      4          4          6          4          7  \n",
       "..         ...        ...    ...        ...        ...        ...        ...  \n",
       "234          7          5      5          6          6          3          7  \n",
       "235          7          2      4          7          3          2          7  \n",
       "236          7          3      3          7          2          1          6  \n",
       "237          7          5      2          5          3          2          7  \n",
       "238          3          9      3          1          7          3          3  \n",
       "\n",
       "[239 rows x 32 columns]"
      ]
     },
     "execution_count": 46,
     "metadata": {},
     "output_type": "execute_result"
    }
   ],
   "source": [
    "data"
   ]
  },
  {
   "cell_type": "code",
   "execution_count": 47,
   "id": "42ed3e15",
   "metadata": {},
   "outputs": [
    {
     "data": {
      "text/plain": [
       "Index(['\"distant\"', '\"talkatv\"', '\"carelss\"', '\"hardwrk\"', '\"anxious\"',\n",
       "       '\"agreebl\"', '\"tense\"', '\"kind\"', '\"opposng\"', '\"relaxed\"', '\"disorgn\"',\n",
       "       '\"outgoin\"', '\"approvn\"', '\"shy\"', '\"discipl\"', '\"harsh\"', '\"persevr\"',\n",
       "       '\"friendl\"', '\"worryin\"', '\"respnsi\"', '\"contrar\"', '\"sociabl\"',\n",
       "       '\"lazy\"', '\"coopera\"', '\"quiet\"', '\"organiz\"', '\"criticl\"', '\"lax\"',\n",
       "       '\"laidbck\"', '\"withdrw\"', '\"givinup\"', '\"easygon\"'],\n",
       "      dtype='object')"
      ]
     },
     "execution_count": 47,
     "metadata": {},
     "output_type": "execute_result"
    }
   ],
   "source": [
    "data.columns"
   ]
  },
  {
   "cell_type": "markdown",
   "id": "a4f5456a",
   "metadata": {},
   "source": [
    "Pertama, mari kita lakukan terlebih dahulu pengujian \"Bartlett Sphericity\" dan \"KMO\". Dua uji ini menguji apakah adanya 'hubungan' antara variabel-variabel prediktor (berupa 32 aspek kepribadian)."
   ]
  },
  {
   "cell_type": "code",
   "execution_count": 48,
   "id": "cd528872",
   "metadata": {},
   "outputs": [],
   "source": [
    "from factor_analyzer.factor_analyzer import calculate_bartlett_sphericity, calculate_kmo"
   ]
  },
  {
   "cell_type": "markdown",
   "id": "b03236b0",
   "metadata": {},
   "source": [
    "##### Uji Hipotesis Bartlett Sphericity"
   ]
  },
  {
   "cell_type": "code",
   "execution_count": 49,
   "id": "e15b0f1a",
   "metadata": {},
   "outputs": [
    {
     "name": "stdout",
     "output_type": "stream",
     "text": [
      "Bartlett Sphericity Test\n",
      "Chi squared value :  4023.800388782076\n",
      "p value :  0.0\n"
     ]
    }
   ],
   "source": [
    "chi2,p = calculate_bartlett_sphericity(data)\n",
    "print(\"Bartlett Sphericity Test\")\n",
    "print(\"Chi squared value : \", chi2)\n",
    "print(\"p value : \", p)"
   ]
  },
  {
   "cell_type": "markdown",
   "id": "602f2334",
   "metadata": {},
   "source": [
    "Hipotesis 0: Tidak ada 'faktor' yang dapat dibentuk dari variabel bebas data kita\n",
    "\n",
    "Hipotesis Alternatif: Ada 'faktor' yang dapat dibentuk dari variabel bebas data kita\n",
    "\n",
    "p-value = 0, berarti kita bisa menolak hipotesis 0. Artinya, ada 'faktor' yang dapat dibentuk dari variabel bebas pada data kita."
   ]
  },
  {
   "cell_type": "markdown",
   "id": "de88ae2e",
   "metadata": {},
   "source": [
    "##### Uji KMO (KAISER-MEYER-OLKIN)"
   ]
  },
  {
   "cell_type": "markdown",
   "id": "ab05d61e",
   "metadata": {},
   "source": [
    "KMO adalah uji yang dilakukan untuk menentukan kelayakan (appropriateness) dari suatu analisis faktor yang akan dilakukan. Skala uji KMO berkisar antara 0 sampai 1. Jika nilai KMO hitung lebih rendah dari 0.5, maka analisis faktor tidak layak dilakukan. Sedangkan jika nilai KMO hitung lebih besar dari 0.5, maka analisis faktor layak dilakukan. "
   ]
  },
  {
   "cell_type": "code",
   "execution_count": 50,
   "id": "f511f2dd",
   "metadata": {},
   "outputs": [
    {
     "name": "stdout",
     "output_type": "stream",
     "text": [
      "KMO Test Statisitc 0.8423659914570744\n"
     ]
    }
   ],
   "source": [
    "kmo_all, kmo_model = calculate_kmo(data)\n",
    "print(\"KMO Test Statisitc\", kmo_model)"
   ]
  },
  {
   "cell_type": "markdown",
   "id": "ab21bb61",
   "metadata": {},
   "source": [
    "KMO = 0.84, nice! Berarti, Factor Analysis layak dilakukan."
   ]
  },
  {
   "cell_type": "markdown",
   "id": "f51daa52",
   "metadata": {},
   "source": [
    "##### Factor Analysis"
   ]
  },
  {
   "cell_type": "markdown",
   "id": "77d927cb",
   "metadata": {},
   "source": [
    "Pertanyaannya sekarang adalah, ada berapa banyak faktor yang dapat kita ekstrak?"
   ]
  },
  {
   "cell_type": "code",
   "execution_count": 51,
   "id": "e2cdfbe9",
   "metadata": {},
   "outputs": [
    {
     "data": {
      "text/plain": [
       "FactorAnalyzer(n_factors=32, rotation=None, rotation_kwargs={})"
      ]
     },
     "execution_count": 51,
     "metadata": {},
     "output_type": "execute_result"
    }
   ],
   "source": [
    "fa = FactorAnalyzer(rotation=None, n_factors=32)\n",
    "fa.fit(data)"
   ]
  },
  {
   "cell_type": "code",
   "execution_count": 52,
   "id": "47f9733a",
   "metadata": {},
   "outputs": [],
   "source": [
    "ev, _ = fa.get_eigenvalues()"
   ]
  },
  {
   "cell_type": "code",
   "execution_count": 53,
   "id": "b4ace952",
   "metadata": {},
   "outputs": [
    {
     "data": {
      "image/png": "[encoded data removed]",
      "text/plain": [
       "<Figure size 432x288 with 1 Axes>"
      ]
     },
     "metadata": {
      "needs_background": "light"
     },
     "output_type": "display_data"
    }
   ],
   "source": [
    "plt.scatter(range(1, data.shape[1]+1), ev)\n",
    "plt.plot(range(1, data.shape[1]+1), ev)\n",
    "plt.title('Scree Plot')\n",
    "plt.xlabel('Factors')\n",
    "plt.ylabel('Eigen Value')\n",
    "plt.grid()"
   ]
  },
  {
   "cell_type": "markdown",
   "id": "92b8c2c7",
   "metadata": {},
   "source": [
    "Rule of thumb: Berapa jumlah Eigenvalue yang > 1 menunjukkan berapa banyak 'factor' yang dapat kita ekstrak. Terdapat 6 eigenvalue di atas 1, oleh sebab itu, jumlah faktor yang dapat dibuat adalah 6."
   ]
  },
  {
   "cell_type": "markdown",
   "id": "30f1adef",
   "metadata": {},
   "source": [
    "##### Interpreting Factors"
   ]
  },
  {
   "cell_type": "code",
   "execution_count": 54,
   "id": "4699c816",
   "metadata": {},
   "outputs": [
    {
     "data": {
      "text/html": [
       "<div>\n",
       "<style scoped>\n",
       "    .dataframe tbody tr th:only-of-type {\n",
       "        vertical-align: middle;\n",
       "    }\n",
       "\n",
       "    .dataframe tbody tr th {\n",
       "        vertical-align: top;\n",
       "    }\n",
       "\n",
       "    .dataframe thead th {\n",
       "        text-align: right;\n",
       "    }\n",
       "</style>\n",
       "<table border=\"1\" class=\"dataframe\">\n",
       "  <thead>\n",
       "    <tr style=\"text-align: right;\">\n",
       "      <th></th>\n",
       "      <th>0</th>\n",
       "      <th>1</th>\n",
       "      <th>2</th>\n",
       "      <th>3</th>\n",
       "      <th>4</th>\n",
       "      <th>5</th>\n",
       "    </tr>\n",
       "  </thead>\n",
       "  <tbody>\n",
       "    <tr>\n",
       "      <th>\"distant\"</th>\n",
       "      <td>0.621929</td>\n",
       "      <td>-0.036902</td>\n",
       "      <td>0.162649</td>\n",
       "      <td>-0.014300</td>\n",
       "      <td>0.116345</td>\n",
       "      <td>0.214723</td>\n",
       "    </tr>\n",
       "    <tr>\n",
       "      <th>\"talkatv\"</th>\n",
       "      <td>-0.815645</td>\n",
       "      <td>0.047962</td>\n",
       "      <td>0.043568</td>\n",
       "      <td>0.034478</td>\n",
       "      <td>0.183825</td>\n",
       "      <td>0.198883</td>\n",
       "    </tr>\n",
       "    <tr>\n",
       "      <th>\"carelss\"</th>\n",
       "      <td>-0.024458</td>\n",
       "      <td>0.084374</td>\n",
       "      <td>-0.025765</td>\n",
       "      <td>0.019814</td>\n",
       "      <td>0.692506</td>\n",
       "      <td>0.092016</td>\n",
       "    </tr>\n",
       "    <tr>\n",
       "      <th>\"hardwrk\"</th>\n",
       "      <td>-0.075190</td>\n",
       "      <td>0.098361</td>\n",
       "      <td>0.699128</td>\n",
       "      <td>0.124157</td>\n",
       "      <td>-0.005432</td>\n",
       "      <td>0.104900</td>\n",
       "    </tr>\n",
       "    <tr>\n",
       "      <th>\"anxious\"</th>\n",
       "      <td>0.078232</td>\n",
       "      <td>0.733435</td>\n",
       "      <td>-0.022812</td>\n",
       "      <td>0.260727</td>\n",
       "      <td>0.122874</td>\n",
       "      <td>0.125531</td>\n",
       "    </tr>\n",
       "    <tr>\n",
       "      <th>\"agreebl\"</th>\n",
       "      <td>0.098896</td>\n",
       "      <td>0.028021</td>\n",
       "      <td>0.079148</td>\n",
       "      <td>0.665866</td>\n",
       "      <td>0.146381</td>\n",
       "      <td>-0.153350</td>\n",
       "    </tr>\n",
       "    <tr>\n",
       "      <th>\"tense\"</th>\n",
       "      <td>0.041879</td>\n",
       "      <td>0.791837</td>\n",
       "      <td>0.001393</td>\n",
       "      <td>0.115947</td>\n",
       "      <td>0.067550</td>\n",
       "      <td>0.167397</td>\n",
       "    </tr>\n",
       "    <tr>\n",
       "      <th>\"kind\"</th>\n",
       "      <td>0.002060</td>\n",
       "      <td>0.117663</td>\n",
       "      <td>0.107000</td>\n",
       "      <td>0.619342</td>\n",
       "      <td>-0.206475</td>\n",
       "      <td>-0.074915</td>\n",
       "    </tr>\n",
       "    <tr>\n",
       "      <th>\"opposng\"</th>\n",
       "      <td>-0.116482</td>\n",
       "      <td>0.023685</td>\n",
       "      <td>-0.041461</td>\n",
       "      <td>-0.117537</td>\n",
       "      <td>-0.043428</td>\n",
       "      <td>0.665929</td>\n",
       "    </tr>\n",
       "    <tr>\n",
       "      <th>\"relaxed\"</th>\n",
       "      <td>0.116094</td>\n",
       "      <td>-0.684155</td>\n",
       "      <td>-0.058510</td>\n",
       "      <td>0.292329</td>\n",
       "      <td>-0.010787</td>\n",
       "      <td>0.040779</td>\n",
       "    </tr>\n",
       "    <tr>\n",
       "      <th>\"disorgn\"</th>\n",
       "      <td>-0.043510</td>\n",
       "      <td>0.018632</td>\n",
       "      <td>-0.027139</td>\n",
       "      <td>0.066144</td>\n",
       "      <td>0.883332</td>\n",
       "      <td>-0.082543</td>\n",
       "    </tr>\n",
       "    <tr>\n",
       "      <th>\"outgoin\"</th>\n",
       "      <td>-0.856403</td>\n",
       "      <td>0.068786</td>\n",
       "      <td>-0.035501</td>\n",
       "      <td>0.169298</td>\n",
       "      <td>0.008328</td>\n",
       "      <td>0.110760</td>\n",
       "    </tr>\n",
       "    <tr>\n",
       "      <th>\"approvn\"</th>\n",
       "      <td>-0.172572</td>\n",
       "      <td>-0.041627</td>\n",
       "      <td>0.101861</td>\n",
       "      <td>0.484136</td>\n",
       "      <td>0.005601</td>\n",
       "      <td>-0.044576</td>\n",
       "    </tr>\n",
       "    <tr>\n",
       "      <th>\"shy\"</th>\n",
       "      <td>0.717489</td>\n",
       "      <td>0.119641</td>\n",
       "      <td>-0.168469</td>\n",
       "      <td>0.068341</td>\n",
       "      <td>-0.030191</td>\n",
       "      <td>-0.167555</td>\n",
       "    </tr>\n",
       "    <tr>\n",
       "      <th>\"discipl\"</th>\n",
       "      <td>0.195509</td>\n",
       "      <td>-0.048821</td>\n",
       "      <td>0.767362</td>\n",
       "      <td>0.094359</td>\n",
       "      <td>0.025328</td>\n",
       "      <td>0.065508</td>\n",
       "    </tr>\n",
       "    <tr>\n",
       "      <th>\"harsh\"</th>\n",
       "      <td>-0.013588</td>\n",
       "      <td>-0.041128</td>\n",
       "      <td>0.107627</td>\n",
       "      <td>-0.214246</td>\n",
       "      <td>0.122944</td>\n",
       "      <td>0.603578</td>\n",
       "    </tr>\n",
       "    <tr>\n",
       "      <th>\"persevr\"</th>\n",
       "      <td>-0.037045</td>\n",
       "      <td>0.064800</td>\n",
       "      <td>0.703945</td>\n",
       "      <td>0.170654</td>\n",
       "      <td>0.117847</td>\n",
       "      <td>0.058628</td>\n",
       "    </tr>\n",
       "    <tr>\n",
       "      <th>\"friendl\"</th>\n",
       "      <td>-0.457267</td>\n",
       "      <td>0.189421</td>\n",
       "      <td>0.048669</td>\n",
       "      <td>0.508883</td>\n",
       "      <td>-0.012921</td>\n",
       "      <td>-0.074842</td>\n",
       "    </tr>\n",
       "    <tr>\n",
       "      <th>\"worryin\"</th>\n",
       "      <td>0.044207</td>\n",
       "      <td>0.781397</td>\n",
       "      <td>-0.146286</td>\n",
       "      <td>0.134952</td>\n",
       "      <td>-0.023351</td>\n",
       "      <td>0.062978</td>\n",
       "    </tr>\n",
       "    <tr>\n",
       "      <th>\"respnsi\"</th>\n",
       "      <td>0.111791</td>\n",
       "      <td>0.018580</td>\n",
       "      <td>0.519753</td>\n",
       "      <td>0.220350</td>\n",
       "      <td>-0.324199</td>\n",
       "      <td>0.104510</td>\n",
       "    </tr>\n",
       "    <tr>\n",
       "      <th>\"contrar\"</th>\n",
       "      <td>-0.058953</td>\n",
       "      <td>0.061859</td>\n",
       "      <td>-0.003707</td>\n",
       "      <td>-0.121254</td>\n",
       "      <td>0.022354</td>\n",
       "      <td>0.723810</td>\n",
       "    </tr>\n",
       "    <tr>\n",
       "      <th>\"sociabl\"</th>\n",
       "      <td>-0.775018</td>\n",
       "      <td>0.042672</td>\n",
       "      <td>-0.205265</td>\n",
       "      <td>0.168120</td>\n",
       "      <td>-0.073678</td>\n",
       "      <td>0.023460</td>\n",
       "    </tr>\n",
       "    <tr>\n",
       "      <th>\"lazy\"</th>\n",
       "      <td>0.042959</td>\n",
       "      <td>0.130926</td>\n",
       "      <td>-0.672407</td>\n",
       "      <td>0.073828</td>\n",
       "      <td>0.056636</td>\n",
       "      <td>0.126362</td>\n",
       "    </tr>\n",
       "    <tr>\n",
       "      <th>\"coopera\"</th>\n",
       "      <td>0.032117</td>\n",
       "      <td>-0.031667</td>\n",
       "      <td>0.164126</td>\n",
       "      <td>0.552460</td>\n",
       "      <td>0.017381</td>\n",
       "      <td>-0.236590</td>\n",
       "    </tr>\n",
       "    <tr>\n",
       "      <th>\"quiet\"</th>\n",
       "      <td>0.837540</td>\n",
       "      <td>0.123940</td>\n",
       "      <td>-0.094868</td>\n",
       "      <td>0.259599</td>\n",
       "      <td>-0.107020</td>\n",
       "      <td>-0.037533</td>\n",
       "    </tr>\n",
       "    <tr>\n",
       "      <th>\"organiz\"</th>\n",
       "      <td>-0.006481</td>\n",
       "      <td>-0.031702</td>\n",
       "      <td>0.120980</td>\n",
       "      <td>0.059033</td>\n",
       "      <td>-0.824761</td>\n",
       "      <td>0.198676</td>\n",
       "    </tr>\n",
       "    <tr>\n",
       "      <th>\"criticl\"</th>\n",
       "      <td>0.025025</td>\n",
       "      <td>0.060254</td>\n",
       "      <td>0.095494</td>\n",
       "      <td>-0.072316</td>\n",
       "      <td>-0.232043</td>\n",
       "      <td>0.648948</td>\n",
       "    </tr>\n",
       "    <tr>\n",
       "      <th>\"lax\"</th>\n",
       "      <td>0.028695</td>\n",
       "      <td>-0.179075</td>\n",
       "      <td>-0.308844</td>\n",
       "      <td>0.243079</td>\n",
       "      <td>0.167376</td>\n",
       "      <td>0.116703</td>\n",
       "    </tr>\n",
       "    <tr>\n",
       "      <th>\"laidbck\"</th>\n",
       "      <td>0.064394</td>\n",
       "      <td>-0.596824</td>\n",
       "      <td>-0.083642</td>\n",
       "      <td>0.243561</td>\n",
       "      <td>0.085065</td>\n",
       "      <td>0.167791</td>\n",
       "    </tr>\n",
       "    <tr>\n",
       "      <th>\"withdrw\"</th>\n",
       "      <td>0.748308</td>\n",
       "      <td>0.013281</td>\n",
       "      <td>0.085806</td>\n",
       "      <td>0.002628</td>\n",
       "      <td>0.094168</td>\n",
       "      <td>0.170643</td>\n",
       "    </tr>\n",
       "    <tr>\n",
       "      <th>\"givinup\"</th>\n",
       "      <td>0.237778</td>\n",
       "      <td>0.224214</td>\n",
       "      <td>-0.456455</td>\n",
       "      <td>-0.039410</td>\n",
       "      <td>0.009113</td>\n",
       "      <td>0.092628</td>\n",
       "    </tr>\n",
       "    <tr>\n",
       "      <th>\"easygon\"</th>\n",
       "      <td>-0.052011</td>\n",
       "      <td>-0.395930</td>\n",
       "      <td>-0.168300</td>\n",
       "      <td>0.401742</td>\n",
       "      <td>-0.081108</td>\n",
       "      <td>0.113178</td>\n",
       "    </tr>\n",
       "  </tbody>\n",
       "</table>\n",
       "</div>"
      ],
      "text/plain": [
       "                  0         1         2         3         4         5\n",
       "\"distant\"  0.621929 -0.036902  0.162649 -0.014300  0.116345  0.214723\n",
       "\"talkatv\" -0.815645  0.047962  0.043568  0.034478  0.183825  0.198883\n",
       "\"carelss\" -0.024458  0.084374 -0.025765  0.019814  0.692506  0.092016\n",
       "\"hardwrk\" -0.075190  0.098361  0.699128  0.124157 -0.005432  0.104900\n",
       "\"anxious\"  0.078232  0.733435 -0.022812  0.260727  0.122874  0.125531\n",
       "\"agreebl\"  0.098896  0.028021  0.079148  0.665866  0.146381 -0.153350\n",
       "\"tense\"    0.041879  0.791837  0.001393  0.115947  0.067550  0.167397\n",
       "\"kind\"     0.002060  0.117663  0.107000  0.619342 -0.206475 -0.074915\n",
       "\"opposng\" -0.116482  0.023685 -0.041461 -0.117537 -0.043428  0.665929\n",
       "\"relaxed\"  0.116094 -0.684155 -0.058510  0.292329 -0.010787  0.040779\n",
       "\"disorgn\" -0.043510  0.018632 -0.027139  0.066144  0.883332 -0.082543\n",
       "\"outgoin\" -0.856403  0.068786 -0.035501  0.169298  0.008328  0.110760\n",
       "\"approvn\" -0.172572 -0.041627  0.101861  0.484136  0.005601 -0.044576\n",
       "\"shy\"      0.717489  0.119641 -0.168469  0.068341 -0.030191 -0.167555\n",
       "\"discipl\"  0.195509 -0.048821  0.767362  0.094359  0.025328  0.065508\n",
       "\"harsh\"   -0.013588 -0.041128  0.107627 -0.214246  0.122944  0.603578\n",
       "\"persevr\" -0.037045  0.064800  0.703945  0.170654  0.117847  0.058628\n",
       "\"friendl\" -0.457267  0.189421  0.048669  0.508883 -0.012921 -0.074842\n",
       "\"worryin\"  0.044207  0.781397 -0.146286  0.134952 -0.023351  0.062978\n",
       "\"respnsi\"  0.111791  0.018580  0.519753  0.220350 -0.324199  0.104510\n",
       "\"contrar\" -0.058953  0.061859 -0.003707 -0.121254  0.022354  0.723810\n",
       "\"sociabl\" -0.775018  0.042672 -0.205265  0.168120 -0.073678  0.023460\n",
       "\"lazy\"     0.042959  0.130926 -0.672407  0.073828  0.056636  0.126362\n",
       "\"coopera\"  0.032117 -0.031667  0.164126  0.552460  0.017381 -0.236590\n",
       "\"quiet\"    0.837540  0.123940 -0.094868  0.259599 -0.107020 -0.037533\n",
       "\"organiz\" -0.006481 -0.031702  0.120980  0.059033 -0.824761  0.198676\n",
       "\"criticl\"  0.025025  0.060254  0.095494 -0.072316 -0.232043  0.648948\n",
       "\"lax\"      0.028695 -0.179075 -0.308844  0.243079  0.167376  0.116703\n",
       "\"laidbck\"  0.064394 -0.596824 -0.083642  0.243561  0.085065  0.167791\n",
       "\"withdrw\"  0.748308  0.013281  0.085806  0.002628  0.094168  0.170643\n",
       "\"givinup\"  0.237778  0.224214 -0.456455 -0.039410  0.009113  0.092628\n",
       "\"easygon\" -0.052011 -0.395930 -0.168300  0.401742 -0.081108  0.113178"
      ]
     },
     "execution_count": 54,
     "metadata": {},
     "output_type": "execute_result"
    }
   ],
   "source": [
    "fa = FactorAnalyzer(n_factors=6)\n",
    "fa.fit(data)\n",
    "pd.DataFrame(fa.loadings_, index=data.columns)"
   ]
  },
  {
   "cell_type": "code",
   "execution_count": 55,
   "id": "3c9043ce",
   "metadata": {},
   "outputs": [
    {
     "data": {
      "text/html": [
       "<div>\n",
       "<style scoped>\n",
       "    .dataframe tbody tr th:only-of-type {\n",
       "        vertical-align: middle;\n",
       "    }\n",
       "\n",
       "    .dataframe tbody tr th {\n",
       "        vertical-align: top;\n",
       "    }\n",
       "\n",
       "    .dataframe thead th {\n",
       "        text-align: right;\n",
       "    }\n",
       "</style>\n",
       "<table border=\"1\" class=\"dataframe\">\n",
       "  <thead>\n",
       "    <tr style=\"text-align: right;\">\n",
       "      <th></th>\n",
       "      <th>\"distant\"</th>\n",
       "      <th>\"talkatv\"</th>\n",
       "      <th>\"carelss\"</th>\n",
       "      <th>\"hardwrk\"</th>\n",
       "      <th>\"anxious\"</th>\n",
       "      <th>\"agreebl\"</th>\n",
       "      <th>\"tense\"</th>\n",
       "      <th>\"kind\"</th>\n",
       "      <th>\"opposng\"</th>\n",
       "      <th>\"relaxed\"</th>\n",
       "      <th>...</th>\n",
       "      <th>\"lazy\"</th>\n",
       "      <th>\"coopera\"</th>\n",
       "      <th>\"quiet\"</th>\n",
       "      <th>\"organiz\"</th>\n",
       "      <th>\"criticl\"</th>\n",
       "      <th>\"lax\"</th>\n",
       "      <th>\"laidbck\"</th>\n",
       "      <th>\"withdrw\"</th>\n",
       "      <th>\"givinup\"</th>\n",
       "      <th>\"easygon\"</th>\n",
       "    </tr>\n",
       "  </thead>\n",
       "  <tbody>\n",
       "    <tr>\n",
       "      <th>0</th>\n",
       "      <td>3</td>\n",
       "      <td>8</td>\n",
       "      <td>2</td>\n",
       "      <td>7</td>\n",
       "      <td>5</td>\n",
       "      <td>8</td>\n",
       "      <td>4</td>\n",
       "      <td>8</td>\n",
       "      <td>5</td>\n",
       "      <td>7</td>\n",
       "      <td>...</td>\n",
       "      <td>2</td>\n",
       "      <td>7</td>\n",
       "      <td>6</td>\n",
       "      <td>6</td>\n",
       "      <td>4</td>\n",
       "      <td>3</td>\n",
       "      <td>7</td>\n",
       "      <td>2</td>\n",
       "      <td>2</td>\n",
       "      <td>7</td>\n",
       "    </tr>\n",
       "  </tbody>\n",
       "</table>\n",
       "<p>1 rows × 32 columns</p>\n",
       "</div>"
      ],
      "text/plain": [
       "   \"distant\"  \"talkatv\"  \"carelss\"  \"hardwrk\"  \"anxious\"  \"agreebl\"  \"tense\"  \\\n",
       "0          3          8          2          7          5          8        4   \n",
       "\n",
       "   \"kind\"  \"opposng\"  \"relaxed\"  ...  \"lazy\"  \"coopera\"  \"quiet\"  \"organiz\"  \\\n",
       "0       8          5          7  ...       2          7        6          6   \n",
       "\n",
       "   \"criticl\"  \"lax\"  \"laidbck\"  \"withdrw\"  \"givinup\"  \"easygon\"  \n",
       "0          4      3          7          2          2          7  \n",
       "\n",
       "[1 rows x 32 columns]"
      ]
     },
     "execution_count": 55,
     "metadata": {},
     "output_type": "execute_result"
    }
   ],
   "source": [
    "data.iloc[0:1,:]"
   ]
  },
  {
   "cell_type": "markdown",
   "id": "d63fcfab",
   "metadata": {},
   "source": [
    "Semakin 'besar' angkanya berarti semakin 'ngefek' variabel itu ke Faktor tersebut. Biar enak liatnya, mungkin bisa pakai heatmap."
   ]
  },
  {
   "cell_type": "code",
   "execution_count": 56,
   "id": "97c7160a",
   "metadata": {},
   "outputs": [
    {
     "data": {
      "image/png": "[encoded data removed]",
      "text/plain": [
       "<Figure size 720x1080 with 2 Axes>"
      ]
     },
     "metadata": {
      "needs_background": "light"
     },
     "output_type": "display_data"
    }
   ],
   "source": [
    "plt.subplots(figsize=(10, 15))\n",
    "sns.heatmap(pd.DataFrame(fa.loadings_, index=data.columns))\n",
    "plt.show()"
   ]
  },
  {
   "cell_type": "markdown",
   "id": "9a66cb0a",
   "metadata": {},
   "source": [
    "1. Faktor 1: semakin tinggi nilainya, semakin 'introvert' orang tersebut\n",
    "2. Faktor 2: semakin tinggi nilainya, semakin 'overthinking' orang tersebut\n",
    "3. Faktor 3: semakin tinggi nilainya, semakin 'kerja keras' orang tersebut\n",
    "4. Faktor 4: semakin tinggi nilainya, semakin 'friendly' orang tersebut\n",
    "5. Faktor 5: semakin tinggi nilainya, semakin 'careless' orang tersebut\n",
    "6. Faktor 6: semakin tinggi nilainya, semakin 'kritis' dan 'beroposisi' orang tersebut"
   ]
  },
  {
   "cell_type": "markdown",
   "id": "abb14733",
   "metadata": {},
   "source": [
    "Bagaimana mendapatkan data hasil transformasinya?"
   ]
  },
  {
   "cell_type": "code",
   "execution_count": 57,
   "id": "8a2f9e65",
   "metadata": {},
   "outputs": [
    {
     "data": {
      "text/plain": [
       "array([[-0.57657874, -0.52473099,  0.10929076,  0.97781637,  0.00681953,\n",
       "         0.11021309],\n",
       "       [ 0.44847408, -1.61657734, -0.82357428,  1.63392545,  0.42181744,\n",
       "        -0.74335314],\n",
       "       [-0.04181686, -0.62816697,  0.27942843,  1.02876132, -0.25136663,\n",
       "        -0.4686294 ],\n",
       "       ...,\n",
       "       [-1.67827425, -0.12884273,  0.7181034 ,  0.3281249 , -0.17935442,\n",
       "         0.36579208],\n",
       "       [-0.32987512,  0.57720329,  1.2547893 , -0.25565266, -0.39468171,\n",
       "        -0.3836559 ],\n",
       "       [ 1.59426064,  2.2569395 ,  0.06255801, -0.22121562,  1.74818343,\n",
       "         2.61278997]])"
      ]
     },
     "execution_count": 57,
     "metadata": {},
     "output_type": "execute_result"
    }
   ],
   "source": [
    "fa.transform(data)"
   ]
  },
  {
   "cell_type": "code",
   "execution_count": 58,
   "id": "a0c1c6dc",
   "metadata": {},
   "outputs": [
    {
     "data": {
      "text/html": [
       "<div>\n",
       "<style scoped>\n",
       "    .dataframe tbody tr th:only-of-type {\n",
       "        vertical-align: middle;\n",
       "    }\n",
       "\n",
       "    .dataframe tbody tr th {\n",
       "        vertical-align: top;\n",
       "    }\n",
       "\n",
       "    .dataframe thead th {\n",
       "        text-align: right;\n",
       "    }\n",
       "</style>\n",
       "<table border=\"1\" class=\"dataframe\">\n",
       "  <thead>\n",
       "    <tr style=\"text-align: right;\">\n",
       "      <th></th>\n",
       "      <th>introverted</th>\n",
       "      <th>overthink</th>\n",
       "      <th>hardwork</th>\n",
       "      <th>friendly</th>\n",
       "      <th>careless</th>\n",
       "      <th>critical</th>\n",
       "    </tr>\n",
       "  </thead>\n",
       "  <tbody>\n",
       "    <tr>\n",
       "      <th>0</th>\n",
       "      <td>-0.576579</td>\n",
       "      <td>-0.524731</td>\n",
       "      <td>0.109291</td>\n",
       "      <td>0.977816</td>\n",
       "      <td>0.006820</td>\n",
       "      <td>0.110213</td>\n",
       "    </tr>\n",
       "    <tr>\n",
       "      <th>1</th>\n",
       "      <td>0.448474</td>\n",
       "      <td>-1.616577</td>\n",
       "      <td>-0.823574</td>\n",
       "      <td>1.633925</td>\n",
       "      <td>0.421817</td>\n",
       "      <td>-0.743353</td>\n",
       "    </tr>\n",
       "    <tr>\n",
       "      <th>2</th>\n",
       "      <td>-0.041817</td>\n",
       "      <td>-0.628167</td>\n",
       "      <td>0.279428</td>\n",
       "      <td>1.028761</td>\n",
       "      <td>-0.251367</td>\n",
       "      <td>-0.468629</td>\n",
       "    </tr>\n",
       "    <tr>\n",
       "      <th>3</th>\n",
       "      <td>2.581590</td>\n",
       "      <td>1.303622</td>\n",
       "      <td>-0.623350</td>\n",
       "      <td>-2.396868</td>\n",
       "      <td>0.689494</td>\n",
       "      <td>0.093807</td>\n",
       "    </tr>\n",
       "    <tr>\n",
       "      <th>4</th>\n",
       "      <td>1.399831</td>\n",
       "      <td>0.961596</td>\n",
       "      <td>-0.730540</td>\n",
       "      <td>0.747335</td>\n",
       "      <td>0.858348</td>\n",
       "      <td>0.906138</td>\n",
       "    </tr>\n",
       "    <tr>\n",
       "      <th>...</th>\n",
       "      <td>...</td>\n",
       "      <td>...</td>\n",
       "      <td>...</td>\n",
       "      <td>...</td>\n",
       "      <td>...</td>\n",
       "      <td>...</td>\n",
       "    </tr>\n",
       "    <tr>\n",
       "      <th>234</th>\n",
       "      <td>0.155423</td>\n",
       "      <td>-0.387941</td>\n",
       "      <td>0.126333</td>\n",
       "      <td>0.403399</td>\n",
       "      <td>-0.296421</td>\n",
       "      <td>0.085233</td>\n",
       "    </tr>\n",
       "    <tr>\n",
       "      <th>235</th>\n",
       "      <td>-0.598632</td>\n",
       "      <td>-1.572874</td>\n",
       "      <td>-0.490582</td>\n",
       "      <td>0.272096</td>\n",
       "      <td>0.018445</td>\n",
       "      <td>-1.189655</td>\n",
       "    </tr>\n",
       "    <tr>\n",
       "      <th>236</th>\n",
       "      <td>-1.678274</td>\n",
       "      <td>-0.128843</td>\n",
       "      <td>0.718103</td>\n",
       "      <td>0.328125</td>\n",
       "      <td>-0.179354</td>\n",
       "      <td>0.365792</td>\n",
       "    </tr>\n",
       "    <tr>\n",
       "      <th>237</th>\n",
       "      <td>-0.329875</td>\n",
       "      <td>0.577203</td>\n",
       "      <td>1.254789</td>\n",
       "      <td>-0.255653</td>\n",
       "      <td>-0.394682</td>\n",
       "      <td>-0.383656</td>\n",
       "    </tr>\n",
       "    <tr>\n",
       "      <th>238</th>\n",
       "      <td>1.594261</td>\n",
       "      <td>2.256939</td>\n",
       "      <td>0.062558</td>\n",
       "      <td>-0.221216</td>\n",
       "      <td>1.748183</td>\n",
       "      <td>2.612790</td>\n",
       "    </tr>\n",
       "  </tbody>\n",
       "</table>\n",
       "<p>239 rows × 6 columns</p>\n",
       "</div>"
      ],
      "text/plain": [
       "     introverted  overthink  hardwork  friendly  careless  critical\n",
       "0      -0.576579  -0.524731  0.109291  0.977816  0.006820  0.110213\n",
       "1       0.448474  -1.616577 -0.823574  1.633925  0.421817 -0.743353\n",
       "2      -0.041817  -0.628167  0.279428  1.028761 -0.251367 -0.468629\n",
       "3       2.581590   1.303622 -0.623350 -2.396868  0.689494  0.093807\n",
       "4       1.399831   0.961596 -0.730540  0.747335  0.858348  0.906138\n",
       "..           ...        ...       ...       ...       ...       ...\n",
       "234     0.155423  -0.387941  0.126333  0.403399 -0.296421  0.085233\n",
       "235    -0.598632  -1.572874 -0.490582  0.272096  0.018445 -1.189655\n",
       "236    -1.678274  -0.128843  0.718103  0.328125 -0.179354  0.365792\n",
       "237    -0.329875   0.577203  1.254789 -0.255653 -0.394682 -0.383656\n",
       "238     1.594261   2.256939  0.062558 -0.221216  1.748183  2.612790\n",
       "\n",
       "[239 rows x 6 columns]"
      ]
     },
     "execution_count": 58,
     "metadata": {},
     "output_type": "execute_result"
    }
   ],
   "source": [
    "new_data = pd.DataFrame(fa.transform(data))\n",
    "new_data.columns = ['introverted', 'overthink', 'hardwork', 'friendly', 'careless', 'critical']\n",
    "new_data"
   ]
  },
  {
   "cell_type": "markdown",
   "id": "a5165556",
   "metadata": {},
   "source": [
    "Jadi, dari 32 kolom 'aspek-aspek kepribadian', bisa di'simplify' jadi 6 faktor saja. Nah, sekarang, yuk cari tahum berapa persen `explained variance` dari dataset baru kita ini."
   ]
  },
  {
   "cell_type": "code",
   "execution_count": 59,
   "id": "6d806f8a",
   "metadata": {},
   "outputs": [
    {
     "data": {
      "text/html": [
       "<div>\n",
       "<style scoped>\n",
       "    .dataframe tbody tr th:only-of-type {\n",
       "        vertical-align: middle;\n",
       "    }\n",
       "\n",
       "    .dataframe tbody tr th {\n",
       "        vertical-align: top;\n",
       "    }\n",
       "\n",
       "    .dataframe thead th {\n",
       "        text-align: right;\n",
       "    }\n",
       "</style>\n",
       "<table border=\"1\" class=\"dataframe\">\n",
       "  <thead>\n",
       "    <tr style=\"text-align: right;\">\n",
       "      <th></th>\n",
       "      <th>0</th>\n",
       "      <th>1</th>\n",
       "      <th>2</th>\n",
       "      <th>3</th>\n",
       "      <th>4</th>\n",
       "      <th>5</th>\n",
       "    </tr>\n",
       "  </thead>\n",
       "  <tbody>\n",
       "    <tr>\n",
       "      <th>Variance</th>\n",
       "      <td>4.579569</td>\n",
       "      <td>2.984119</td>\n",
       "      <td>2.872199</td>\n",
       "      <td>2.417710</td>\n",
       "      <td>2.335140</td>\n",
       "      <td>2.215520</td>\n",
       "    </tr>\n",
       "    <tr>\n",
       "      <th>Proportional Var</th>\n",
       "      <td>0.143112</td>\n",
       "      <td>0.093254</td>\n",
       "      <td>0.089756</td>\n",
       "      <td>0.075553</td>\n",
       "      <td>0.072973</td>\n",
       "      <td>0.069235</td>\n",
       "    </tr>\n",
       "    <tr>\n",
       "      <th>Cumulative Var</th>\n",
       "      <td>0.143112</td>\n",
       "      <td>0.236365</td>\n",
       "      <td>0.326121</td>\n",
       "      <td>0.401675</td>\n",
       "      <td>0.474648</td>\n",
       "      <td>0.543883</td>\n",
       "    </tr>\n",
       "  </tbody>\n",
       "</table>\n",
       "</div>"
      ],
      "text/plain": [
       "                         0         1         2         3         4         5\n",
       "Variance          4.579569  2.984119  2.872199  2.417710  2.335140  2.215520\n",
       "Proportional Var  0.143112  0.093254  0.089756  0.075553  0.072973  0.069235\n",
       "Cumulative Var    0.143112  0.236365  0.326121  0.401675  0.474648  0.543883"
      ]
     },
     "execution_count": 59,
     "metadata": {},
     "output_type": "execute_result"
    }
   ],
   "source": [
    "pd.DataFrame(fa.get_factor_variance(), index=['Variance','Proportional Var','Cumulative Var'])"
   ]
  },
  {
   "cell_type": "code",
   "execution_count": 60,
   "id": "e8dede16",
   "metadata": {},
   "outputs": [
    {
     "data": {
      "text/html": [
       "<div>\n",
       "<style scoped>\n",
       "    .dataframe tbody tr th:only-of-type {\n",
       "        vertical-align: middle;\n",
       "    }\n",
       "\n",
       "    .dataframe tbody tr th {\n",
       "        vertical-align: top;\n",
       "    }\n",
       "\n",
       "    .dataframe thead th {\n",
       "        text-align: right;\n",
       "    }\n",
       "</style>\n",
       "<table border=\"1\" class=\"dataframe\">\n",
       "  <thead>\n",
       "    <tr style=\"text-align: right;\">\n",
       "      <th></th>\n",
       "      <th>0</th>\n",
       "      <th>1</th>\n",
       "      <th>2</th>\n",
       "      <th>3</th>\n",
       "      <th>4</th>\n",
       "      <th>5</th>\n",
       "    </tr>\n",
       "  </thead>\n",
       "  <tbody>\n",
       "    <tr>\n",
       "      <th>0</th>\n",
       "      <td>-0.680080</td>\n",
       "      <td>-0.990954</td>\n",
       "      <td>-1.993583</td>\n",
       "      <td>0.756953</td>\n",
       "      <td>1.813473</td>\n",
       "      <td>-0.140413</td>\n",
       "    </tr>\n",
       "    <tr>\n",
       "      <th>1</th>\n",
       "      <td>0.490557</td>\n",
       "      <td>0.959836</td>\n",
       "      <td>0.720589</td>\n",
       "      <td>0.031975</td>\n",
       "      <td>0.041068</td>\n",
       "      <td>0.323671</td>\n",
       "    </tr>\n",
       "    <tr>\n",
       "      <th>2</th>\n",
       "      <td>-0.752586</td>\n",
       "      <td>-1.106847</td>\n",
       "      <td>0.634519</td>\n",
       "      <td>0.772635</td>\n",
       "      <td>-0.669014</td>\n",
       "      <td>-0.104198</td>\n",
       "    </tr>\n",
       "    <tr>\n",
       "      <th>3</th>\n",
       "      <td>0.118238</td>\n",
       "      <td>-0.543430</td>\n",
       "      <td>0.249216</td>\n",
       "      <td>-0.486670</td>\n",
       "      <td>-0.186957</td>\n",
       "      <td>0.113697</td>\n",
       "    </tr>\n",
       "    <tr>\n",
       "      <th>4</th>\n",
       "      <td>0.712944</td>\n",
       "      <td>-0.540833</td>\n",
       "      <td>0.570667</td>\n",
       "      <td>-0.371079</td>\n",
       "      <td>-0.662538</td>\n",
       "      <td>0.800675</td>\n",
       "    </tr>\n",
       "  </tbody>\n",
       "</table>\n",
       "</div>"
      ],
      "text/plain": [
       "          0         1         2         3         4         5\n",
       "0 -0.680080 -0.990954 -1.993583  0.756953  1.813473 -0.140413\n",
       "1  0.490557  0.959836  0.720589  0.031975  0.041068  0.323671\n",
       "2 -0.752586 -1.106847  0.634519  0.772635 -0.669014 -0.104198\n",
       "3  0.118238 -0.543430  0.249216 -0.486670 -0.186957  0.113697\n",
       "4  0.712944 -0.540833  0.570667 -0.371079 -0.662538  0.800675"
      ]
     },
     "execution_count": 60,
     "metadata": {},
     "output_type": "execute_result"
    }
   ],
   "source": [
    "pd.DataFrame(fa.transform(data[5:10]))"
   ]
  },
  {
   "cell_type": "markdown",
   "id": "3acda72c",
   "metadata": {},
   "source": [
    "Jawabannya: 54%"
   ]
  },
  {
   "cell_type": "markdown",
   "id": "0512515c",
   "metadata": {},
   "source": [
    "### Part 4: KMeans Clustering"
   ]
  },
  {
   "cell_type": "markdown",
   "id": "47e7e038",
   "metadata": {},
   "source": [
    "Untuk KMeans, kita akan mencoba melakukan clustering pada data mall customers, dan temukan apakah kita bisa mengelompokkan pengunjung mall."
   ]
  },
  {
   "cell_type": "code",
   "execution_count": 61,
   "id": "ebfcf028",
   "metadata": {},
   "outputs": [],
   "source": [
    "import numpy as np\n",
    "import pandas as pd\n",
    "\n",
    "from sklearn.cluster import KMeans\n",
    "from sklearn.metrics import silhouette_samples, silhouette_score\n",
    "from sklearn.preprocessing import StandardScaler\n",
    "\n",
    "import matplotlib.pyplot as plt\n",
    "import matplotlib.cm as cm\n",
    "import seaborn as sns\n",
    "data = pd.read_csv('Mall_Customers.csv')"
   ]
  },
  {
   "cell_type": "code",
   "execution_count": 62,
   "id": "8e2a89f6",
   "metadata": {},
   "outputs": [
    {
     "data": {
      "text/html": [
       "<div>\n",
       "<style scoped>\n",
       "    .dataframe tbody tr th:only-of-type {\n",
       "        vertical-align: middle;\n",
       "    }\n",
       "\n",
       "    .dataframe tbody tr th {\n",
       "        vertical-align: top;\n",
       "    }\n",
       "\n",
       "    .dataframe thead th {\n",
       "        text-align: right;\n",
       "    }\n",
       "</style>\n",
       "<table border=\"1\" class=\"dataframe\">\n",
       "  <thead>\n",
       "    <tr style=\"text-align: right;\">\n",
       "      <th></th>\n",
       "      <th>CustomerID</th>\n",
       "      <th>Gender</th>\n",
       "      <th>Age</th>\n",
       "      <th>Annual Income (k$)</th>\n",
       "      <th>Spending Score (1-100)</th>\n",
       "    </tr>\n",
       "  </thead>\n",
       "  <tbody>\n",
       "    <tr>\n",
       "      <th>0</th>\n",
       "      <td>1</td>\n",
       "      <td>Male</td>\n",
       "      <td>19</td>\n",
       "      <td>15</td>\n",
       "      <td>39</td>\n",
       "    </tr>\n",
       "    <tr>\n",
       "      <th>1</th>\n",
       "      <td>2</td>\n",
       "      <td>Male</td>\n",
       "      <td>21</td>\n",
       "      <td>15</td>\n",
       "      <td>81</td>\n",
       "    </tr>\n",
       "    <tr>\n",
       "      <th>2</th>\n",
       "      <td>3</td>\n",
       "      <td>Female</td>\n",
       "      <td>20</td>\n",
       "      <td>16</td>\n",
       "      <td>6</td>\n",
       "    </tr>\n",
       "    <tr>\n",
       "      <th>3</th>\n",
       "      <td>4</td>\n",
       "      <td>Female</td>\n",
       "      <td>23</td>\n",
       "      <td>16</td>\n",
       "      <td>77</td>\n",
       "    </tr>\n",
       "    <tr>\n",
       "      <th>4</th>\n",
       "      <td>5</td>\n",
       "      <td>Female</td>\n",
       "      <td>31</td>\n",
       "      <td>17</td>\n",
       "      <td>40</td>\n",
       "    </tr>\n",
       "    <tr>\n",
       "      <th>...</th>\n",
       "      <td>...</td>\n",
       "      <td>...</td>\n",
       "      <td>...</td>\n",
       "      <td>...</td>\n",
       "      <td>...</td>\n",
       "    </tr>\n",
       "    <tr>\n",
       "      <th>195</th>\n",
       "      <td>196</td>\n",
       "      <td>Female</td>\n",
       "      <td>35</td>\n",
       "      <td>120</td>\n",
       "      <td>79</td>\n",
       "    </tr>\n",
       "    <tr>\n",
       "      <th>196</th>\n",
       "      <td>197</td>\n",
       "      <td>Female</td>\n",
       "      <td>45</td>\n",
       "      <td>126</td>\n",
       "      <td>28</td>\n",
       "    </tr>\n",
       "    <tr>\n",
       "      <th>197</th>\n",
       "      <td>198</td>\n",
       "      <td>Male</td>\n",
       "      <td>32</td>\n",
       "      <td>126</td>\n",
       "      <td>74</td>\n",
       "    </tr>\n",
       "    <tr>\n",
       "      <th>198</th>\n",
       "      <td>199</td>\n",
       "      <td>Male</td>\n",
       "      <td>32</td>\n",
       "      <td>137</td>\n",
       "      <td>18</td>\n",
       "    </tr>\n",
       "    <tr>\n",
       "      <th>199</th>\n",
       "      <td>200</td>\n",
       "      <td>Male</td>\n",
       "      <td>30</td>\n",
       "      <td>137</td>\n",
       "      <td>83</td>\n",
       "    </tr>\n",
       "  </tbody>\n",
       "</table>\n",
       "<p>200 rows × 5 columns</p>\n",
       "</div>"
      ],
      "text/plain": [
       "     CustomerID  Gender  Age  Annual Income (k$)  Spending Score (1-100)\n",
       "0             1    Male   19                  15                      39\n",
       "1             2    Male   21                  15                      81\n",
       "2             3  Female   20                  16                       6\n",
       "3             4  Female   23                  16                      77\n",
       "4             5  Female   31                  17                      40\n",
       "..          ...     ...  ...                 ...                     ...\n",
       "195         196  Female   35                 120                      79\n",
       "196         197  Female   45                 126                      28\n",
       "197         198    Male   32                 126                      74\n",
       "198         199    Male   32                 137                      18\n",
       "199         200    Male   30                 137                      83\n",
       "\n",
       "[200 rows x 5 columns]"
      ]
     },
     "execution_count": 62,
     "metadata": {},
     "output_type": "execute_result"
    }
   ],
   "source": [
    "data"
   ]
  },
  {
   "cell_type": "code",
   "execution_count": 63,
   "id": "454405b7",
   "metadata": {},
   "outputs": [],
   "source": [
    "### Pilih features\n",
    "x = data.iloc[:, [3, 4]]"
   ]
  },
  {
   "cell_type": "code",
   "execution_count": 64,
   "id": "22b0bdd1",
   "metadata": {},
   "outputs": [
    {
     "data": {
      "text/html": [
       "<div>\n",
       "<style scoped>\n",
       "    .dataframe tbody tr th:only-of-type {\n",
       "        vertical-align: middle;\n",
       "    }\n",
       "\n",
       "    .dataframe tbody tr th {\n",
       "        vertical-align: top;\n",
       "    }\n",
       "\n",
       "    .dataframe thead th {\n",
       "        text-align: right;\n",
       "    }\n",
       "</style>\n",
       "<table border=\"1\" class=\"dataframe\">\n",
       "  <thead>\n",
       "    <tr style=\"text-align: right;\">\n",
       "      <th></th>\n",
       "      <th>Annual Income (k$)</th>\n",
       "      <th>Spending Score (1-100)</th>\n",
       "    </tr>\n",
       "  </thead>\n",
       "  <tbody>\n",
       "    <tr>\n",
       "      <th>0</th>\n",
       "      <td>15</td>\n",
       "      <td>39</td>\n",
       "    </tr>\n",
       "    <tr>\n",
       "      <th>1</th>\n",
       "      <td>15</td>\n",
       "      <td>81</td>\n",
       "    </tr>\n",
       "    <tr>\n",
       "      <th>2</th>\n",
       "      <td>16</td>\n",
       "      <td>6</td>\n",
       "    </tr>\n",
       "    <tr>\n",
       "      <th>3</th>\n",
       "      <td>16</td>\n",
       "      <td>77</td>\n",
       "    </tr>\n",
       "    <tr>\n",
       "      <th>4</th>\n",
       "      <td>17</td>\n",
       "      <td>40</td>\n",
       "    </tr>\n",
       "    <tr>\n",
       "      <th>...</th>\n",
       "      <td>...</td>\n",
       "      <td>...</td>\n",
       "    </tr>\n",
       "    <tr>\n",
       "      <th>195</th>\n",
       "      <td>120</td>\n",
       "      <td>79</td>\n",
       "    </tr>\n",
       "    <tr>\n",
       "      <th>196</th>\n",
       "      <td>126</td>\n",
       "      <td>28</td>\n",
       "    </tr>\n",
       "    <tr>\n",
       "      <th>197</th>\n",
       "      <td>126</td>\n",
       "      <td>74</td>\n",
       "    </tr>\n",
       "    <tr>\n",
       "      <th>198</th>\n",
       "      <td>137</td>\n",
       "      <td>18</td>\n",
       "    </tr>\n",
       "    <tr>\n",
       "      <th>199</th>\n",
       "      <td>137</td>\n",
       "      <td>83</td>\n",
       "    </tr>\n",
       "  </tbody>\n",
       "</table>\n",
       "<p>200 rows × 2 columns</p>\n",
       "</div>"
      ],
      "text/plain": [
       "     Annual Income (k$)  Spending Score (1-100)\n",
       "0                    15                      39\n",
       "1                    15                      81\n",
       "2                    16                       6\n",
       "3                    16                      77\n",
       "4                    17                      40\n",
       "..                  ...                     ...\n",
       "195                 120                      79\n",
       "196                 126                      28\n",
       "197                 126                      74\n",
       "198                 137                      18\n",
       "199                 137                      83\n",
       "\n",
       "[200 rows x 2 columns]"
      ]
     },
     "execution_count": 64,
     "metadata": {},
     "output_type": "execute_result"
    }
   ],
   "source": [
    "x"
   ]
  },
  {
   "cell_type": "code",
   "execution_count": 65,
   "id": "372cb5d2",
   "metadata": {},
   "outputs": [],
   "source": [
    "# Elbow Method\n",
    "score = []\n",
    "\n",
    "for cluster in range(1, 11):\n",
    "    kmeans = KMeans(n_clusters = cluster)\n",
    "    scaled_data = StandardScaler().fit_transform(x)\n",
    "    kmeans.fit(scaled_data)\n",
    "    score.append(kmeans.inertia_)"
   ]
  },
  {
   "cell_type": "code",
   "execution_count": 66,
   "id": "10a9c4ec",
   "metadata": {},
   "outputs": [
    {
     "data": {
      "image/png": "[encoded data removed]",
      "text/plain": [
       "<Figure size 432x288 with 1 Axes>"
      ]
     },
     "metadata": {
      "needs_background": "light"
     },
     "output_type": "display_data"
    }
   ],
   "source": [
    "# plotting the score\n",
    "\n",
    "plt.plot(range(1, 11), score)\n",
    "plt.title('The Elbow Method')\n",
    "plt.xlabel('no of clusters')\n",
    "plt.ylabel('wcss')\n",
    "plt.show()"
   ]
  },
  {
   "cell_type": "code",
   "execution_count": 67,
   "id": "72478072",
   "metadata": {},
   "outputs": [
    {
     "data": {
      "image/png": "[encoded data removed]",
      "text/plain": [
       "<Figure size 432x288 with 1 Axes>"
      ]
     },
     "metadata": {
      "needs_background": "light"
     },
     "output_type": "display_data"
    }
   ],
   "source": [
    "### Silhouette Score\n",
    "silhouette_coefficients = []\n",
    "from sklearn.metrics import silhouette_score\n",
    "\n",
    "# Notice you start at 2 clusters for silhouette coefficient\n",
    "for k in range(2, 11):\n",
    "    kmeans = KMeans(n_clusters=k)\n",
    "    scaled_data = StandardScaler().fit_transform(x)\n",
    "    kmeans.fit(scaled_data)\n",
    "    score = silhouette_score(scaled_data, kmeans.labels_)\n",
    "    silhouette_coefficients.append(score)\n",
    "    \n",
    "plt.plot(range(2, 11), silhouette_coefficients)\n",
    "plt.xticks(range(2, 11))\n",
    "plt.xlabel(\"Number of Clusters\")\n",
    "plt.ylabel(\"Silhouette Coefficient\")\n",
    "plt.show()"
   ]
  },
  {
   "cell_type": "markdown",
   "id": "782f97d0",
   "metadata": {},
   "source": [
    "'Elbow' terjadi di k = 3 dan k = 5, sedangkan nilai Silhouette tertinggi ada di k = 5. \n",
    "\n",
    "Berarti, kita bisa berasumsi bahwa k = 5 menjadi 'k' yang paling ideal dalam k-Means ini."
   ]
  },
  {
   "cell_type": "code",
   "execution_count": 68,
   "id": "f886c1df",
   "metadata": {},
   "outputs": [],
   "source": [
    "kmeans_final = KMeans(n_clusters=5)\n",
    "data['cluster'] = kmeans_final.fit_predict(x)\n",
    "data['cluster'] = data['cluster'].astype('category')"
   ]
  },
  {
   "cell_type": "code",
   "execution_count": 69,
   "id": "b7ab8949",
   "metadata": {},
   "outputs": [
    {
     "data": {
      "image/png": "[encoded data removed]",
      "text/plain": [
       "<Figure size 432x288 with 1 Axes>"
      ]
     },
     "metadata": {
      "needs_background": "light"
     },
     "output_type": "display_data"
    }
   ],
   "source": [
    "sns.scatterplot(data=data, x='Annual Income (k$)', y='Spending Score (1-100)', hue='cluster')\n",
    "plt.show()"
   ]
  },
  {
   "cell_type": "markdown",
   "id": "4a282506",
   "metadata": {},
   "source": [
    "- Cluster 0: Income Tinggi, Spending Rendah\n",
    "- Cluster 1: Balanced\n",
    "- Cluster 2: Income Rendah, Spending Rendah\n",
    "- Cluster 3: Income Tinggi, Spending Tinggi\n",
    "- Cluster 4: Income Rendah, Spending Tinggi"
   ]
  }
 ],
 "metadata": {
  "kernelspec": {
   "display_name": "Python 3 (ipykernel)",
   "language": "python",
   "name": "python3"
  },
  "language_info": {
   "codemirror_mode": {
    "name": "ipython",
    "version": 3
   },
   "file_extension": ".py",
   "mimetype": "text/x-python",
   "name": "python",
   "nbconvert_exporter": "python",
   "pygments_lexer": "ipython3",
   "version": "3.9.7"
  }
 },
 "nbformat": 4,
 "nbformat_minor": 5
}
