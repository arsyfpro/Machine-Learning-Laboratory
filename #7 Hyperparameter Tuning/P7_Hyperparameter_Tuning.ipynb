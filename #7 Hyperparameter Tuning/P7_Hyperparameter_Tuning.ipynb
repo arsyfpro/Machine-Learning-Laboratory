{
 "cells": [
  {
   "cell_type": "markdown",
   "id": "0f6e9859",
   "metadata": {},
   "source": [
    "## Welcome to P7 Hands On!"
   ]
  },
  {
   "cell_type": "code",
   "execution_count": 55,
   "id": "b54e4a5f",
   "metadata": {},
   "outputs": [],
   "source": [
    "import pandas as pd\n",
    "import numpy as np"
   ]
  },
  {
   "cell_type": "markdown",
   "id": "7eea4c06",
   "metadata": {},
   "source": [
    "### Part 1: Regularized Regression"
   ]
  },
  {
   "cell_type": "markdown",
   "id": "1b66d905",
   "metadata": {},
   "source": [
    "Pada kesempatan kali ini, kita akan mengunduh data dari: http://archive.ics.uci.edu/ml/datasets/Communities+and+Crime. Kita diminta untuk memprediksi jumlah `Violent Crime` yang terjadi pada setiap lokasi (satu lokasi direpresentasikan oleh satu baris). Terdapat 120 kolom 'feature', dan hanya 1 kolom target.\n",
    "\n",
    "Berarti, datanya memiliki ukuran yang besar, banyak kolom, dan mungkin saja banyak kolom yang 'redundant' atau malah tidak penting. Jika kita menggunakan semua kolom tersebut, maka kemungkinan OverFitting akan besar terjadi. Oleh sebab itu, mari kita lihat apakah regularization membantu atau tidak. \n",
    "\n",
    "Selain itu, data ini juga memiliki banyak missing values. Dari hampir 2000 baris, hanya ada 300 baris yang memiliki nilai penuh (tanpa missing values). Missing values yang dihadapi di sini juga sulit untuk diimputasikan dikarenakan banyaknya kolom yang ada. \n",
    "\n",
    "Ini adalah salah satu contoh data yang memiliki kualitas 'buruk' (row sedikit, kolom sangat banyak dan kita tidak memiliki domain knowledge yang cukup, serta banyak missing values). "
   ]
  },
  {
   "cell_type": "code",
   "execution_count": 56,
   "id": "d0d00079",
   "metadata": {},
   "outputs": [],
   "source": [
    "from sklearn.linear_model import LinearRegression\n",
    "\n",
    "from sklearn.model_selection import cross_val_score\n",
    "from sklearn.model_selection import KFold\n",
    "from sklearn.model_selection import train_test_split\n",
    "\n",
    "from sklearn.metrics import mean_squared_error as mse"
   ]
  },
  {
   "cell_type": "code",
   "execution_count": 57,
   "id": "f0f7353d",
   "metadata": {},
   "outputs": [],
   "source": [
    "import pandas as pd\n",
    "url = 'https://github.com/albahnsen/PracticalMachineLearningClass/raw/master/datasets/communities.data'\n",
    "crime = pd.read_csv(url, header=None, na_values=['?'])\n",
    "\n",
    "df = crime.iloc[:,5:]\n",
    "df['location'] = crime[[3]]\n",
    "\n",
    "df = df.dropna().reset_index(drop = True)"
   ]
  },
  {
   "cell_type": "code",
   "execution_count": 58,
   "id": "15e9a9ff",
   "metadata": {},
   "outputs": [
    {
     "data": {
      "text/html": [
       "<div>\n",
       "<style scoped>\n",
       "    .dataframe tbody tr th:only-of-type {\n",
       "        vertical-align: middle;\n",
       "    }\n",
       "\n",
       "    .dataframe tbody tr th {\n",
       "        vertical-align: top;\n",
       "    }\n",
       "\n",
       "    .dataframe thead th {\n",
       "        text-align: right;\n",
       "    }\n",
       "</style>\n",
       "<table border=\"1\" class=\"dataframe\">\n",
       "  <thead>\n",
       "    <tr style=\"text-align: right;\">\n",
       "      <th></th>\n",
       "      <th>5</th>\n",
       "      <th>6</th>\n",
       "      <th>7</th>\n",
       "      <th>8</th>\n",
       "      <th>9</th>\n",
       "      <th>10</th>\n",
       "      <th>11</th>\n",
       "      <th>12</th>\n",
       "      <th>13</th>\n",
       "      <th>14</th>\n",
       "      <th>...</th>\n",
       "      <th>119</th>\n",
       "      <th>120</th>\n",
       "      <th>121</th>\n",
       "      <th>122</th>\n",
       "      <th>123</th>\n",
       "      <th>124</th>\n",
       "      <th>125</th>\n",
       "      <th>126</th>\n",
       "      <th>127</th>\n",
       "      <th>location</th>\n",
       "    </tr>\n",
       "  </thead>\n",
       "  <tbody>\n",
       "    <tr>\n",
       "      <th>0</th>\n",
       "      <td>0.19</td>\n",
       "      <td>0.33</td>\n",
       "      <td>0.02</td>\n",
       "      <td>0.90</td>\n",
       "      <td>0.12</td>\n",
       "      <td>0.17</td>\n",
       "      <td>0.34</td>\n",
       "      <td>0.47</td>\n",
       "      <td>0.29</td>\n",
       "      <td>0.32</td>\n",
       "      <td>...</td>\n",
       "      <td>0.26</td>\n",
       "      <td>0.20</td>\n",
       "      <td>0.06</td>\n",
       "      <td>0.04</td>\n",
       "      <td>0.90</td>\n",
       "      <td>0.5</td>\n",
       "      <td>0.32</td>\n",
       "      <td>0.14</td>\n",
       "      <td>0.20</td>\n",
       "      <td>Lakewoodcity</td>\n",
       "    </tr>\n",
       "    <tr>\n",
       "      <th>1</th>\n",
       "      <td>0.15</td>\n",
       "      <td>0.31</td>\n",
       "      <td>0.40</td>\n",
       "      <td>0.63</td>\n",
       "      <td>0.14</td>\n",
       "      <td>0.06</td>\n",
       "      <td>0.58</td>\n",
       "      <td>0.72</td>\n",
       "      <td>0.65</td>\n",
       "      <td>0.47</td>\n",
       "      <td>...</td>\n",
       "      <td>0.39</td>\n",
       "      <td>0.84</td>\n",
       "      <td>0.06</td>\n",
       "      <td>0.06</td>\n",
       "      <td>0.91</td>\n",
       "      <td>0.5</td>\n",
       "      <td>0.88</td>\n",
       "      <td>0.26</td>\n",
       "      <td>0.49</td>\n",
       "      <td>Albanycity</td>\n",
       "    </tr>\n",
       "    <tr>\n",
       "      <th>2</th>\n",
       "      <td>0.25</td>\n",
       "      <td>0.54</td>\n",
       "      <td>0.05</td>\n",
       "      <td>0.71</td>\n",
       "      <td>0.48</td>\n",
       "      <td>0.30</td>\n",
       "      <td>0.42</td>\n",
       "      <td>0.48</td>\n",
       "      <td>0.28</td>\n",
       "      <td>0.32</td>\n",
       "      <td>...</td>\n",
       "      <td>0.46</td>\n",
       "      <td>0.05</td>\n",
       "      <td>0.09</td>\n",
       "      <td>0.05</td>\n",
       "      <td>0.88</td>\n",
       "      <td>0.5</td>\n",
       "      <td>0.76</td>\n",
       "      <td>0.13</td>\n",
       "      <td>0.34</td>\n",
       "      <td>Modestocity</td>\n",
       "    </tr>\n",
       "    <tr>\n",
       "      <th>3</th>\n",
       "      <td>1.00</td>\n",
       "      <td>0.42</td>\n",
       "      <td>0.47</td>\n",
       "      <td>0.59</td>\n",
       "      <td>0.12</td>\n",
       "      <td>0.05</td>\n",
       "      <td>0.41</td>\n",
       "      <td>0.53</td>\n",
       "      <td>0.34</td>\n",
       "      <td>0.33</td>\n",
       "      <td>...</td>\n",
       "      <td>0.07</td>\n",
       "      <td>0.15</td>\n",
       "      <td>1.00</td>\n",
       "      <td>0.35</td>\n",
       "      <td>0.73</td>\n",
       "      <td>0.0</td>\n",
       "      <td>0.31</td>\n",
       "      <td>0.21</td>\n",
       "      <td>0.69</td>\n",
       "      <td>Jacksonvillecity</td>\n",
       "    </tr>\n",
       "    <tr>\n",
       "      <th>4</th>\n",
       "      <td>0.11</td>\n",
       "      <td>0.43</td>\n",
       "      <td>0.04</td>\n",
       "      <td>0.89</td>\n",
       "      <td>0.09</td>\n",
       "      <td>0.06</td>\n",
       "      <td>0.45</td>\n",
       "      <td>0.48</td>\n",
       "      <td>0.31</td>\n",
       "      <td>0.46</td>\n",
       "      <td>...</td>\n",
       "      <td>0.12</td>\n",
       "      <td>0.07</td>\n",
       "      <td>0.04</td>\n",
       "      <td>0.01</td>\n",
       "      <td>0.81</td>\n",
       "      <td>1.0</td>\n",
       "      <td>0.56</td>\n",
       "      <td>0.09</td>\n",
       "      <td>0.63</td>\n",
       "      <td>SiouxCitycity</td>\n",
       "    </tr>\n",
       "    <tr>\n",
       "      <th>...</th>\n",
       "      <td>...</td>\n",
       "      <td>...</td>\n",
       "      <td>...</td>\n",
       "      <td>...</td>\n",
       "      <td>...</td>\n",
       "      <td>...</td>\n",
       "      <td>...</td>\n",
       "      <td>...</td>\n",
       "      <td>...</td>\n",
       "      <td>...</td>\n",
       "      <td>...</td>\n",
       "      <td>...</td>\n",
       "      <td>...</td>\n",
       "      <td>...</td>\n",
       "      <td>...</td>\n",
       "      <td>...</td>\n",
       "      <td>...</td>\n",
       "      <td>...</td>\n",
       "      <td>...</td>\n",
       "      <td>...</td>\n",
       "      <td>...</td>\n",
       "    </tr>\n",
       "    <tr>\n",
       "      <th>314</th>\n",
       "      <td>1.00</td>\n",
       "      <td>0.29</td>\n",
       "      <td>0.21</td>\n",
       "      <td>0.29</td>\n",
       "      <td>1.00</td>\n",
       "      <td>0.26</td>\n",
       "      <td>0.24</td>\n",
       "      <td>0.47</td>\n",
       "      <td>0.28</td>\n",
       "      <td>0.46</td>\n",
       "      <td>...</td>\n",
       "      <td>1.00</td>\n",
       "      <td>1.00</td>\n",
       "      <td>0.53</td>\n",
       "      <td>0.62</td>\n",
       "      <td>0.64</td>\n",
       "      <td>0.5</td>\n",
       "      <td>0.64</td>\n",
       "      <td>0.35</td>\n",
       "      <td>0.75</td>\n",
       "      <td>SanFranciscocity</td>\n",
       "    </tr>\n",
       "    <tr>\n",
       "      <th>315</th>\n",
       "      <td>0.07</td>\n",
       "      <td>0.38</td>\n",
       "      <td>0.17</td>\n",
       "      <td>0.84</td>\n",
       "      <td>0.11</td>\n",
       "      <td>0.04</td>\n",
       "      <td>0.35</td>\n",
       "      <td>0.41</td>\n",
       "      <td>0.30</td>\n",
       "      <td>0.64</td>\n",
       "      <td>...</td>\n",
       "      <td>0.13</td>\n",
       "      <td>0.17</td>\n",
       "      <td>0.02</td>\n",
       "      <td>0.01</td>\n",
       "      <td>0.72</td>\n",
       "      <td>0.0</td>\n",
       "      <td>0.62</td>\n",
       "      <td>0.15</td>\n",
       "      <td>0.07</td>\n",
       "      <td>Hamdentown</td>\n",
       "    </tr>\n",
       "    <tr>\n",
       "      <th>316</th>\n",
       "      <td>0.16</td>\n",
       "      <td>0.37</td>\n",
       "      <td>0.25</td>\n",
       "      <td>0.69</td>\n",
       "      <td>0.04</td>\n",
       "      <td>0.25</td>\n",
       "      <td>0.35</td>\n",
       "      <td>0.50</td>\n",
       "      <td>0.31</td>\n",
       "      <td>0.54</td>\n",
       "      <td>...</td>\n",
       "      <td>0.32</td>\n",
       "      <td>0.18</td>\n",
       "      <td>0.08</td>\n",
       "      <td>0.06</td>\n",
       "      <td>0.78</td>\n",
       "      <td>0.0</td>\n",
       "      <td>0.91</td>\n",
       "      <td>0.28</td>\n",
       "      <td>0.23</td>\n",
       "      <td>Waterburytown</td>\n",
       "    </tr>\n",
       "    <tr>\n",
       "      <th>317</th>\n",
       "      <td>0.08</td>\n",
       "      <td>0.51</td>\n",
       "      <td>0.06</td>\n",
       "      <td>0.87</td>\n",
       "      <td>0.22</td>\n",
       "      <td>0.10</td>\n",
       "      <td>0.58</td>\n",
       "      <td>0.74</td>\n",
       "      <td>0.63</td>\n",
       "      <td>0.41</td>\n",
       "      <td>...</td>\n",
       "      <td>0.38</td>\n",
       "      <td>0.33</td>\n",
       "      <td>0.02</td>\n",
       "      <td>0.02</td>\n",
       "      <td>0.79</td>\n",
       "      <td>0.0</td>\n",
       "      <td>0.22</td>\n",
       "      <td>0.18</td>\n",
       "      <td>0.19</td>\n",
       "      <td>Walthamcity</td>\n",
       "    </tr>\n",
       "    <tr>\n",
       "      <th>318</th>\n",
       "      <td>0.20</td>\n",
       "      <td>0.78</td>\n",
       "      <td>0.14</td>\n",
       "      <td>0.46</td>\n",
       "      <td>0.24</td>\n",
       "      <td>0.77</td>\n",
       "      <td>0.50</td>\n",
       "      <td>0.62</td>\n",
       "      <td>0.40</td>\n",
       "      <td>0.17</td>\n",
       "      <td>...</td>\n",
       "      <td>0.30</td>\n",
       "      <td>0.05</td>\n",
       "      <td>0.08</td>\n",
       "      <td>0.04</td>\n",
       "      <td>0.73</td>\n",
       "      <td>0.5</td>\n",
       "      <td>1.00</td>\n",
       "      <td>0.13</td>\n",
       "      <td>0.48</td>\n",
       "      <td>Ontariocity</td>\n",
       "    </tr>\n",
       "  </tbody>\n",
       "</table>\n",
       "<p>319 rows × 124 columns</p>\n",
       "</div>"
      ],
      "text/plain": [
       "        5     6     7     8     9    10    11    12    13    14  ...   119  \\\n",
       "0    0.19  0.33  0.02  0.90  0.12  0.17  0.34  0.47  0.29  0.32  ...  0.26   \n",
       "1    0.15  0.31  0.40  0.63  0.14  0.06  0.58  0.72  0.65  0.47  ...  0.39   \n",
       "2    0.25  0.54  0.05  0.71  0.48  0.30  0.42  0.48  0.28  0.32  ...  0.46   \n",
       "3    1.00  0.42  0.47  0.59  0.12  0.05  0.41  0.53  0.34  0.33  ...  0.07   \n",
       "4    0.11  0.43  0.04  0.89  0.09  0.06  0.45  0.48  0.31  0.46  ...  0.12   \n",
       "..    ...   ...   ...   ...   ...   ...   ...   ...   ...   ...  ...   ...   \n",
       "314  1.00  0.29  0.21  0.29  1.00  0.26  0.24  0.47  0.28  0.46  ...  1.00   \n",
       "315  0.07  0.38  0.17  0.84  0.11  0.04  0.35  0.41  0.30  0.64  ...  0.13   \n",
       "316  0.16  0.37  0.25  0.69  0.04  0.25  0.35  0.50  0.31  0.54  ...  0.32   \n",
       "317  0.08  0.51  0.06  0.87  0.22  0.10  0.58  0.74  0.63  0.41  ...  0.38   \n",
       "318  0.20  0.78  0.14  0.46  0.24  0.77  0.50  0.62  0.40  0.17  ...  0.30   \n",
       "\n",
       "      120   121   122   123  124   125   126   127          location  \n",
       "0    0.20  0.06  0.04  0.90  0.5  0.32  0.14  0.20      Lakewoodcity  \n",
       "1    0.84  0.06  0.06  0.91  0.5  0.88  0.26  0.49        Albanycity  \n",
       "2    0.05  0.09  0.05  0.88  0.5  0.76  0.13  0.34       Modestocity  \n",
       "3    0.15  1.00  0.35  0.73  0.0  0.31  0.21  0.69  Jacksonvillecity  \n",
       "4    0.07  0.04  0.01  0.81  1.0  0.56  0.09  0.63     SiouxCitycity  \n",
       "..    ...   ...   ...   ...  ...   ...   ...   ...               ...  \n",
       "314  1.00  0.53  0.62  0.64  0.5  0.64  0.35  0.75  SanFranciscocity  \n",
       "315  0.17  0.02  0.01  0.72  0.0  0.62  0.15  0.07        Hamdentown  \n",
       "316  0.18  0.08  0.06  0.78  0.0  0.91  0.28  0.23     Waterburytown  \n",
       "317  0.33  0.02  0.02  0.79  0.0  0.22  0.18  0.19       Walthamcity  \n",
       "318  0.05  0.08  0.04  0.73  0.5  1.00  0.13  0.48       Ontariocity  \n",
       "\n",
       "[319 rows x 124 columns]"
      ]
     },
     "execution_count": 58,
     "metadata": {},
     "output_type": "execute_result"
    }
   ],
   "source": [
    "df"
   ]
  },
  {
   "cell_type": "code",
   "execution_count": 59,
   "id": "052d1633",
   "metadata": {},
   "outputs": [],
   "source": [
    "X = df.drop(127, axis=1)\n",
    "X = X.drop('location', axis = 1)\n",
    "y = df[127]"
   ]
  },
  {
   "cell_type": "code",
   "execution_count": 60,
   "id": "bd6490bc",
   "metadata": {},
   "outputs": [],
   "source": [
    "X_train, X_test, y_train, y_test = train_test_split(X, y, random_state=1, test_size = 0.2)"
   ]
  },
  {
   "cell_type": "code",
   "execution_count": 61,
   "id": "c4e979a8",
   "metadata": {},
   "outputs": [],
   "source": [
    "def k_fold_eval(model):\n",
    "    kf = KFold(n_splits = 5)\n",
    "    RMSE_length = 5\n",
    "    RMSE_list = []\n",
    "    \n",
    "    for i, (train, val) in enumerate(kf.split(X_train)):\n",
    "        train_features = X_train.iloc[train]\n",
    "        train_target = y_train.iloc[train]\n",
    "        \n",
    "        val_features = X_train.iloc[val]\n",
    "        val_target = y_train.iloc[val]\n",
    "        \n",
    "        ml_model = model.fit(train_features, train_target)\n",
    "        prediction = ml_model.predict(val_features)\n",
    "        \n",
    "        rmse_score = np.sqrt(mse(val_target, prediction))\n",
    "        RMSE_list.append(rmse_score)\n",
    "        \n",
    "    print('RMSE Scores:')\n",
    "    print(RMSE_list)\n",
    "    print('')\n",
    "    print(f'Average RMSE Score: {np.mean(RMSE_list)}')\n",
    "    print('')\n",
    "    \n",
    "    ml_model_final = model.fit(X_train, y_train)\n",
    "    test_prediction = ml_model_final.predict(X_test)\n",
    "    rmse_final = np.sqrt(mse(y_test, test_prediction))\n",
    "    \n",
    "    print(f'RMSE Evaluate on Test Set: {rmse_final}')\n",
    "    return ml_model_final"
   ]
  },
  {
   "cell_type": "code",
   "execution_count": 62,
   "id": "2eebe56e",
   "metadata": {},
   "outputs": [
    {
     "name": "stdout",
     "output_type": "stream",
     "text": [
      "RMSE Scores:\n",
      "[0.20371217588591764, 0.2596038679337269, 0.24344012193554357, 0.25753517046740365, 0.28869148341738304]\n",
      "\n",
      "Average RMSE Score: 0.25059656392799495\n",
      "\n",
      "RMSE Evaluate on Test Set: 0.23422645103031733\n"
     ]
    }
   ],
   "source": [
    "linear_reg = k_fold_eval(LinearRegression())"
   ]
  },
  {
   "cell_type": "markdown",
   "id": "48393a27",
   "metadata": {},
   "source": [
    "Okay, dengan Linear Regression, kita mendapatkan rata-rata RMSE 0.22 (pada cross validation), serta RMSE 0.23 pada Test Set. "
   ]
  },
  {
   "cell_type": "code",
   "execution_count": 63,
   "id": "3ee16ef8",
   "metadata": {},
   "outputs": [],
   "source": [
    "from sklearn.linear_model import Ridge\n",
    "from sklearn.linear_model import Lasso\n",
    "from sklearn.linear_model import ElasticNet"
   ]
  },
  {
   "cell_type": "code",
   "execution_count": 64,
   "id": "cd0169c4",
   "metadata": {},
   "outputs": [
    {
     "name": "stdout",
     "output_type": "stream",
     "text": [
      "RMSE Scores:\n",
      "[0.1538000424041132, 0.21349040597832789, 0.18486171017651526, 0.16674280558306057, 0.19832156274921264]\n",
      "\n",
      "Average RMSE Score: 0.1834433053782459\n",
      "\n",
      "RMSE Evaluate on Test Set: 0.16683820768815263\n"
     ]
    }
   ],
   "source": [
    "ridge_reg = k_fold_eval(Ridge())"
   ]
  },
  {
   "cell_type": "code",
   "execution_count": 65,
   "id": "83d9160a",
   "metadata": {},
   "outputs": [
    {
     "name": "stdout",
     "output_type": "stream",
     "text": [
      "RMSE Scores:\n",
      "[0.26494020130075124, 0.3072293744166097, 0.2959851861025427, 0.2707031627558652, 0.2784957810065473]\n",
      "\n",
      "Average RMSE Score: 0.28347074111646325\n",
      "\n",
      "RMSE Evaluate on Test Set: 0.24938730808883183\n"
     ]
    }
   ],
   "source": [
    "lasso_reg = k_fold_eval(Lasso())"
   ]
  },
  {
   "cell_type": "code",
   "execution_count": 66,
   "id": "0faa13d3",
   "metadata": {},
   "outputs": [
    {
     "name": "stdout",
     "output_type": "stream",
     "text": [
      "RMSE Scores:\n",
      "[0.26494020130075124, 0.3072293744166097, 0.2959851861025427, 0.2707031627558652, 0.2784957810065473]\n",
      "\n",
      "Average RMSE Score: 0.28347074111646325\n",
      "\n",
      "RMSE Evaluate on Test Set: 0.24938730808883183\n"
     ]
    }
   ],
   "source": [
    "elastic_net = k_fold_eval(ElasticNet())"
   ]
  },
  {
   "cell_type": "markdown",
   "id": "dc9e8594",
   "metadata": {},
   "source": [
    "Ternyata, pada data kita kali ini, teknik \"regularization\" yang paling \"ampuh\" adalah Ridge Regression. "
   ]
  },
  {
   "cell_type": "markdown",
   "id": "740422fc",
   "metadata": {},
   "source": [
    "Apa bedanya Ridge Regression dan Linear Regression? Jika kita ingat pemaparan di teori, Ridge Regression berusaha membuat agar nilai koefisien regresi sekecil mungkin. Yuk bandingin koefisien regresi di Ridge dan di Linear Regression!"
   ]
  },
  {
   "cell_type": "code",
   "execution_count": 67,
   "id": "7e1259f7",
   "metadata": {},
   "outputs": [
    {
     "data": {
      "text/plain": [
       "6.339058904227935"
      ]
     },
     "execution_count": 67,
     "metadata": {},
     "output_type": "execute_result"
    }
   ],
   "source": [
    "np.abs(ridge_reg.coef_).sum()"
   ]
  },
  {
   "cell_type": "code",
   "execution_count": 68,
   "id": "831a69e1",
   "metadata": {},
   "outputs": [
    {
     "data": {
      "text/plain": [
       "148.75334563710373"
      ]
     },
     "execution_count": 68,
     "metadata": {},
     "output_type": "execute_result"
    }
   ],
   "source": [
    "np.abs(linear_reg.coef_).sum()"
   ]
  },
  {
   "cell_type": "markdown",
   "id": "889af8af",
   "metadata": {},
   "source": [
    "### Part 2: Random Forest Tuning"
   ]
  },
  {
   "cell_type": "markdown",
   "id": "7aaa9be9",
   "metadata": {},
   "source": [
    "Untuk Random Forest, kita akan menggunakan dataset Apartment yang sudah dibersihkan dari 'kejanggalan'."
   ]
  },
  {
   "cell_type": "code",
   "execution_count": 69,
   "id": "50756487",
   "metadata": {},
   "outputs": [],
   "source": [
    "apt = pd.read_csv('cleaned_apt_data.csv')"
   ]
  },
  {
   "cell_type": "code",
   "execution_count": 70,
   "id": "49ca3b8c",
   "metadata": {},
   "outputs": [
    {
     "data": {
      "text/html": [
       "<div>\n",
       "<style scoped>\n",
       "    .dataframe tbody tr th:only-of-type {\n",
       "        vertical-align: middle;\n",
       "    }\n",
       "\n",
       "    .dataframe tbody tr th {\n",
       "        vertical-align: top;\n",
       "    }\n",
       "\n",
       "    .dataframe thead th {\n",
       "        text-align: right;\n",
       "    }\n",
       "</style>\n",
       "<table border=\"1\" class=\"dataframe\">\n",
       "  <thead>\n",
       "    <tr style=\"text-align: right;\">\n",
       "      <th></th>\n",
       "      <th>No_Rooms</th>\n",
       "      <th>Bathroom</th>\n",
       "      <th>Longitude</th>\n",
       "      <th>Latitude</th>\n",
       "      <th>Furnished</th>\n",
       "      <th>Area</th>\n",
       "      <th>Total_Facilities</th>\n",
       "      <th>AnnualPrice</th>\n",
       "    </tr>\n",
       "  </thead>\n",
       "  <tbody>\n",
       "    <tr>\n",
       "      <th>0</th>\n",
       "      <td>1</td>\n",
       "      <td>1</td>\n",
       "      <td>106.819159</td>\n",
       "      <td>-6.226598</td>\n",
       "      <td>1</td>\n",
       "      <td>43.0</td>\n",
       "      <td>23</td>\n",
       "      <td>96000000</td>\n",
       "    </tr>\n",
       "    <tr>\n",
       "      <th>1</th>\n",
       "      <td>2</td>\n",
       "      <td>1</td>\n",
       "      <td>106.756061</td>\n",
       "      <td>-6.192081</td>\n",
       "      <td>0</td>\n",
       "      <td>35.0</td>\n",
       "      <td>19</td>\n",
       "      <td>30000000</td>\n",
       "    </tr>\n",
       "    <tr>\n",
       "      <th>2</th>\n",
       "      <td>2</td>\n",
       "      <td>1</td>\n",
       "      <td>106.757651</td>\n",
       "      <td>-6.186415</td>\n",
       "      <td>1</td>\n",
       "      <td>53.0</td>\n",
       "      <td>22</td>\n",
       "      <td>70000000</td>\n",
       "    </tr>\n",
       "    <tr>\n",
       "      <th>3</th>\n",
       "      <td>2</td>\n",
       "      <td>2</td>\n",
       "      <td>106.784600</td>\n",
       "      <td>-6.272637</td>\n",
       "      <td>1</td>\n",
       "      <td>85.0</td>\n",
       "      <td>24</td>\n",
       "      <td>576000000</td>\n",
       "    </tr>\n",
       "    <tr>\n",
       "      <th>4</th>\n",
       "      <td>2</td>\n",
       "      <td>1</td>\n",
       "      <td>106.796056</td>\n",
       "      <td>-6.153652</td>\n",
       "      <td>0</td>\n",
       "      <td>48.0</td>\n",
       "      <td>15</td>\n",
       "      <td>32000000</td>\n",
       "    </tr>\n",
       "  </tbody>\n",
       "</table>\n",
       "</div>"
      ],
      "text/plain": [
       "   No_Rooms  Bathroom   Longitude  Latitude  Furnished  Area  \\\n",
       "0         1         1  106.819159 -6.226598          1  43.0   \n",
       "1         2         1  106.756061 -6.192081          0  35.0   \n",
       "2         2         1  106.757651 -6.186415          1  53.0   \n",
       "3         2         2  106.784600 -6.272637          1  85.0   \n",
       "4         2         1  106.796056 -6.153652          0  48.0   \n",
       "\n",
       "   Total_Facilities  AnnualPrice  \n",
       "0                23     96000000  \n",
       "1                19     30000000  \n",
       "2                22     70000000  \n",
       "3                24    576000000  \n",
       "4                15     32000000  "
      ]
     },
     "execution_count": 70,
     "metadata": {},
     "output_type": "execute_result"
    }
   ],
   "source": [
    "apt.head()"
   ]
  },
  {
   "cell_type": "code",
   "execution_count": 71,
   "id": "498cc06a",
   "metadata": {},
   "outputs": [],
   "source": [
    "X = apt.drop('AnnualPrice', axis = 'columns')\n",
    "y = apt['AnnualPrice']"
   ]
  },
  {
   "cell_type": "code",
   "execution_count": 72,
   "id": "0a40931f",
   "metadata": {},
   "outputs": [],
   "source": [
    "from sklearn.ensemble import RandomForestRegressor\n",
    "from sklearn.metrics import r2_score\n",
    "\n",
    "base_model = RandomForestRegressor()"
   ]
  },
  {
   "cell_type": "code",
   "execution_count": 73,
   "id": "1370dddb",
   "metadata": {},
   "outputs": [],
   "source": [
    "X_train, X_test, y_train, y_test = train_test_split(X, y, random_state=1, test_size = 0.2)"
   ]
  },
  {
   "cell_type": "code",
   "execution_count": 74,
   "id": "f3816b53",
   "metadata": {
    "scrolled": true
   },
   "outputs": [
    {
     "name": "stdout",
     "output_type": "stream",
     "text": [
      "Base Model has RMSE: 28704746.28643344\n",
      "Base Model has R2-Score: 0.9017898035289309\n"
     ]
    }
   ],
   "source": [
    "base_model.fit(X_train, y_train)\n",
    "base_pred = base_model.predict(X_test)\n",
    "base_rmse = np.sqrt(mse(y_test, base_pred))\n",
    "print('Base Model has RMSE:', base_rmse)\n",
    "print('Base Model has R2-Score:', r2_score(y_test, base_pred))"
   ]
  },
  {
   "cell_type": "markdown",
   "id": "b29c27b8",
   "metadata": {},
   "source": [
    "### 1. Randomized Search"
   ]
  },
  {
   "cell_type": "code",
   "execution_count": 75,
   "id": "a5797675",
   "metadata": {},
   "outputs": [
    {
     "name": "stdout",
     "output_type": "stream",
     "text": [
      "{'n_estimators': [200, 400, 600, 800, 1000, 1200, 1400, 1600, 1800, 2000], 'max_features': ['auto', 'sqrt'], 'max_depth': [10, 20, 30, 40, 50, 60, 70, 80, 90, 100, 110, None], 'min_samples_split': [2, 5, 10], 'min_samples_leaf': [1, 2, 4]}\n"
     ]
    }
   ],
   "source": [
    "from sklearn.model_selection import RandomizedSearchCV\n",
    "\n",
    "# Number of trees in random forest\n",
    "n_estimators = [int(x) for x in np.linspace(start = 200, stop = 2000, num = 10)]\n",
    "# Number of features to consider at every split\n",
    "max_features = ['auto', 'sqrt']\n",
    "# Maximum number of levels in tree\n",
    "max_depth = [int(x) for x in np.linspace(10, 110, num = 11)]\n",
    "max_depth.append(None)\n",
    "# Minimum number of samples required to split a node\n",
    "min_samples_split = [2, 5, 10]\n",
    "# Minimum number of samples required at each leaf node\n",
    "min_samples_leaf = [1, 2, 4]\n",
    "\n",
    "# Create the random grid\n",
    "random_grid = {'n_estimators': n_estimators,\n",
    "               'max_features': max_features,\n",
    "               'max_depth': max_depth,\n",
    "               'min_samples_split': min_samples_split,\n",
    "               'min_samples_leaf': min_samples_leaf}\n",
    "\n",
    "print(random_grid)"
   ]
  },
  {
   "cell_type": "code",
   "execution_count": 77,
   "id": "3787a0fc",
   "metadata": {},
   "outputs": [
    {
     "name": "stdout",
     "output_type": "stream",
     "text": [
      "Fitting 5 folds for each of 100 candidates, totalling 500 fits\n"
     ]
    },
    {
     "name": "stderr",
     "output_type": "stream",
     "text": [
      "\r",
      "0it [00:00, ?it/s]"
     ]
    },
    {
     "data": {
      "text/plain": [
       "<tqdm.std.tqdm at 0x1cf83ea1130>"
      ]
     },
     "execution_count": 77,
     "metadata": {},
     "output_type": "execute_result"
    }
   ],
   "source": [
    "# Use the random grid to search for best hyperparameters\n",
    "# First create the base model to tune\n",
    "rf = RandomForestRegressor()\n",
    "# Random search of parameters, using 5 fold cross validation, \n",
    "# search across 100 different combinations, and use all available cores\n",
    "rf_random = RandomizedSearchCV(estimator=rf, param_distributions=random_grid,\n",
    "                              n_iter = 100, cv = 5, verbose=3, random_state=42, n_jobs=-1,\n",
    "                              return_train_score=True)\n",
    "\n",
    "# Fit the random search model\n",
    "rf_random.fit(X_train, y_train)"
   ]
  },
  {
   "cell_type": "code",
   "execution_count": 78,
   "id": "317e2958",
   "metadata": {},
   "outputs": [
    {
     "data": {
      "text/plain": [
       "{'n_estimators': 1000,\n",
       " 'min_samples_split': 2,\n",
       " 'min_samples_leaf': 1,\n",
       " 'max_features': 'auto',\n",
       " 'max_depth': 40}"
      ]
     },
     "execution_count": 78,
     "metadata": {},
     "output_type": "execute_result"
    }
   ],
   "source": [
    "rf_random.best_params_"
   ]
  },
  {
   "cell_type": "code",
   "execution_count": 79,
   "id": "6a4142ce",
   "metadata": {},
   "outputs": [
    {
     "name": "stdout",
     "output_type": "stream",
     "text": [
      "New Model has RMSE: 28077739.234876532\n",
      "New Model has R2-Score: 0.906033418555545\n"
     ]
    }
   ],
   "source": [
    "new_pred = rf_random.best_estimator_.predict(X_test)\n",
    "new_rmse = np.sqrt(mse(y_test, new_pred))\n",
    "print('New Model has RMSE:', new_rmse)\n",
    "print('New Model has R2-Score:', r2_score(y_test, new_pred))"
   ]
  },
  {
   "cell_type": "code",
   "execution_count": 81,
   "id": "86f50bc7",
   "metadata": {},
   "outputs": [
    {
     "name": "stdout",
     "output_type": "stream",
     "text": [
      "Improvement of: 2.1843323236521566 %\n"
     ]
    }
   ],
   "source": [
    "print('Improvement of:', ((base_rmse - new_rmse)/base_rmse)*100,'%')"
   ]
  },
  {
   "cell_type": "markdown",
   "id": "ce0102e8",
   "metadata": {},
   "source": [
    "### 2. Grid Search"
   ]
  },
  {
   "cell_type": "code",
   "execution_count": 89,
   "id": "2bd52612",
   "metadata": {},
   "outputs": [
    {
     "name": "stdout",
     "output_type": "stream",
     "text": [
      "Fitting 5 folds for each of 27 candidates, totalling 135 fits\n"
     ]
    },
    {
     "data": {
      "text/plain": [
       "GridSearchCV(cv=5, estimator=RandomForestRegressor(), n_jobs=-1,\n",
       "             param_grid={'max_depth': [2, 5, 10],\n",
       "                         'min_samples_leaf': [5, 50, 100],\n",
       "                         'n_estimators': [10, 50, 200]},\n",
       "             return_train_score=True, verbose=3)"
      ]
     },
     "execution_count": 89,
     "metadata": {},
     "output_type": "execute_result"
    }
   ],
   "source": [
    "from sklearn.model_selection import GridSearchCV\n",
    "\n",
    "grid_search_params = {\n",
    "    'max_depth': [2,5,10],\n",
    "    'min_samples_leaf': [5,50,100],\n",
    "    'n_estimators': [10,50,200]\n",
    "}\n",
    "\n",
    "# Instantiate the grid search model\n",
    "rf_grid = GridSearchCV(estimator=rf, param_grid=grid_search_params,\n",
    "                            cv = 5, n_jobs=-1, verbose=3, return_train_score=True)\n",
    "\n",
    "rf_grid.fit(X_train, y_train)"
   ]
  },
  {
   "cell_type": "code",
   "execution_count": 90,
   "id": "b3d22550",
   "metadata": {},
   "outputs": [
    {
     "data": {
      "text/plain": [
       "{'max_depth': 10, 'min_samples_leaf': 5, 'n_estimators': 200}"
      ]
     },
     "execution_count": 90,
     "metadata": {},
     "output_type": "execute_result"
    }
   ],
   "source": [
    "rf_grid.best_params_"
   ]
  },
  {
   "cell_type": "code",
   "execution_count": 91,
   "id": "79dac561",
   "metadata": {},
   "outputs": [
    {
     "name": "stdout",
     "output_type": "stream",
     "text": [
      "New Model has RMSE: 31265074.756521944\n",
      "New Model has R2-Score: 0.8834886867200987\n"
     ]
    }
   ],
   "source": [
    "new_pred_grid = rf_grid.best_estimator_.predict(X_test)\n",
    "\n",
    "new_rmse_grid = np.sqrt(mse(y_test, new_pred_grid))\n",
    "\n",
    "print('New Model has RMSE:', new_rmse_grid)\n",
    "print('New Model has R2-Score:', r2_score(y_test, new_pred_grid))"
   ]
  },
  {
   "cell_type": "code",
   "execution_count": 92,
   "id": "a741fab8",
   "metadata": {},
   "outputs": [
    {
     "name": "stdout",
     "output_type": "stream",
     "text": [
      "Improvement of: -8.919530047539832 %\n"
     ]
    }
   ],
   "source": [
    "print('Improvement of:', ((base_rmse - new_rmse_grid)/base_rmse)*100,'%')"
   ]
  },
  {
   "cell_type": "code",
   "execution_count": null,
   "id": "00cee4dd",
   "metadata": {},
   "outputs": [],
   "source": []
  }
 ],
 "metadata": {
  "kernelspec": {
   "display_name": "Python 3 (ipykernel)",
   "language": "python",
   "name": "python3"
  },
  "language_info": {
   "codemirror_mode": {
    "name": "ipython",
    "version": 3
   },
   "file_extension": ".py",
   "mimetype": "text/x-python",
   "name": "python",
   "nbconvert_exporter": "python",
   "pygments_lexer": "ipython3",
   "version": "3.9.7"
  }
 },
 "nbformat": 4,
 "nbformat_minor": 5
}
